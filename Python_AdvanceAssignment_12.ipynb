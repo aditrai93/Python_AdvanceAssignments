{
 "cells": [
  {
   "cell_type": "markdown",
   "id": "1690951a",
   "metadata": {},
   "source": [
    "1. For this challenge, forget how to add two numbers together.\n",
    "Examples\n",
    "\n",
    "meme_sum(26, 39) ➞ 515\n",
    "\n",
    "2+3 = 5, 6+9 = 15\n",
    "26 + 39 = 515\n",
    "\n",
    "meme_sum(122, 81) ➞ 1103\n",
    "\n",
    "1+0 = 1, 2+8 = 10, 2+1 = 3\n",
    "\n",
    "122 + 81 = 1103\n",
    "\n",
    "meme_sum(1222, 30277) ➞ 31499\n",
    "\n"
   ]
  },
  {
   "cell_type": "code",
   "execution_count": 16,
   "id": "95677f5d",
   "metadata": {},
   "outputs": [],
   "source": [
    "def meme_sum(num1,num2):\n",
    "    str_num1=str(num1)\n",
    "    str_num2=str(num2)\n",
    "    st=\"\"\n",
    "    if len(str_num1)==len(str_num2):\n",
    "        for i in range(len(str_num1)):\n",
    "            st=st+str(int(str_num1[i])+int(str_num2[i]))\n",
    "    elif len(str_num1)>len(str_num2):\n",
    "        j=0\n",
    "        i=len(str_num1)-len(str_num2)\n",
    "        v=i\n",
    "        while i>0:\n",
    "            st=st+str_num1[j]\n",
    "            j=j+1\n",
    "            i=i-1\n",
    "        for k in range(v,len(str_num1)):\n",
    "            print(str_num1[k])\n",
    "            st=st+str(int(str_num1[k])+int(str_num2[k-v]))\n",
    "    else:\n",
    "        j=0\n",
    "        i=len(str_num2)-len(str_num1)\n",
    "        v=i\n",
    "        while i>0:\n",
    "            st=st+str_num2[j]\n",
    "            j=j+1\n",
    "            i=i-1\n",
    "        for k in range(v,len(str_num2)):\n",
    "            print(str_num2[k])\n",
    "            st=st+str(int(str_num2[k])+int(str_num1[k-v]))\n",
    "        \n",
    "            \n",
    "    return int(st)"
   ]
  },
  {
   "cell_type": "code",
   "execution_count": 18,
   "id": "f7034dc2",
   "metadata": {},
   "outputs": [
    {
     "name": "stdout",
     "output_type": "stream",
     "text": [
      "0\n",
      "2\n",
      "7\n",
      "7\n"
     ]
    },
    {
     "data": {
      "text/plain": [
       "31499"
      ]
     },
     "execution_count": 18,
     "metadata": {},
     "output_type": "execute_result"
    }
   ],
   "source": [
    "meme_sum(1222, 30277)"
   ]
  },
  {
   "cell_type": "markdown",
   "id": "7371767f",
   "metadata": {},
   "source": [
    "2. Given an integer, create a function that returns the next prime. If the number is prime, return the number itself.\n",
    "\n",
    "Examples\n",
    "\n",
    "next_prime(12) ➞ 13\n",
    "\n",
    "next_prime(24) ➞ 29\n",
    "\n",
    "next_prime(11) ➞ 11\n",
    "\n",
    "11 is a prime, so we return the number itself.\n"
   ]
  },
  {
   "cell_type": "code",
   "execution_count": 4,
   "id": "8c207af7",
   "metadata": {},
   "outputs": [],
   "source": [
    "def prime(n):\n",
    "    prime=True\n",
    "    i=2\n",
    "    if n!=2:\n",
    "        while i<n:\n",
    "            if n%i==0:\n",
    "                prime=False\n",
    "                break\n",
    "            else:\n",
    "                i=i+1\n",
    "    return prime\n",
    "        \n",
    "        \n",
    "    \n",
    "def next_prime(n):\n",
    "    num=n\n",
    "    if prime(n)==True:\n",
    "        num=n\n",
    "    else:\n",
    "        num=num+1\n",
    "        while prime(num)!=True:\n",
    "            num=num+1\n",
    "    return num\n",
    "    \n",
    "        \n",
    "                \n",
    "            \n",
    "            \n",
    "        \n",
    "    "
   ]
  },
  {
   "cell_type": "code",
   "execution_count": 14,
   "id": "758de766",
   "metadata": {},
   "outputs": [
    {
     "data": {
      "text/plain": [
       "29"
      ]
     },
     "execution_count": 14,
     "metadata": {},
     "output_type": "execute_result"
    }
   ],
   "source": [
    "next_prime(24)"
   ]
  },
  {
   "cell_type": "markdown",
   "id": "27c74954",
   "metadata": {},
   "source": [
    "3. If a person traveled up a hill for 18mins at 20mph and then traveled back down the same path at 60mph then their average speed traveled was 30mph.\n",
    "\n",
    "Write a function that returns the average speed traveled given an uphill time, uphill rate and a downhill rate. Uphill time is given in minutes. Return the rate as an integer (mph). No rounding is necessary.\n",
    "\n",
    "Examples\n",
    "\n",
    "ave_spd(18, 20, 60) ➞ 30\n",
    "\n",
    "ave_spd(30, 10, 30) ➞ 15\n",
    "\n",
    "ave_spd(30, 8, 24) ➞ 12\n"
   ]
  },
  {
   "cell_type": "code",
   "execution_count": 3,
   "id": "fb5b37f8",
   "metadata": {},
   "outputs": [],
   "source": [
    "def ave_spd(t,ur,dr):\n",
    "    dist=t*ur\n",
    "    dt=dist//dr\n",
    "    tot_dist=dist*2\n",
    "    tot_t=t+dt\n",
    "    return tot_dist//tot_t\n",
    "    "
   ]
  },
  {
   "cell_type": "code",
   "execution_count": 6,
   "id": "d1bbae6e",
   "metadata": {},
   "outputs": [
    {
     "data": {
      "text/plain": [
       "12"
      ]
     },
     "execution_count": 6,
     "metadata": {},
     "output_type": "execute_result"
    }
   ],
   "source": [
    "ave_spd(30,8,24)"
   ]
  },
  {
   "cell_type": "markdown",
   "id": "94cd29c5",
   "metadata": {},
   "source": [
    "4. The Kempner Function, applied to a composite number, permits to find the smallest integer greater than zero whose factorial is exactly divided by the number.\n",
    "\n",
    "kempner(6) ➞ 3\n",
    "\n",
    "1! = 1 % 6 > 0\n",
    "\n",
    "2! = 2 % 6 > 0\n",
    "\n",
    "3! = 6 % 6 === 0\n",
    "\n",
    "kempner(10) ➞ 5\n",
    "\n",
    "1! = 1 % 10 > 0\n",
    "\n",
    "2! = 2 % 10 > 0\n",
    "\n",
    "3! = 6 % 10 > 0\n",
    "\n",
    "4! = 24 % 10 > 0\n",
    "\n",
    "5! = 120 % 10 === 0\n",
    "\n",
    "A Kempner Function applied to a prime will always return the prime itself.\n",
    "\n",
    "kempner(2) ➞ 2\n",
    "kempner(5) ➞ 5\n",
    "\n",
    "Given an integer n, implement a Kempner Function.\n",
    "\n",
    "Examples\n",
    "\n",
    "kempner(6) ➞ 3\n",
    "\n",
    "kempner(10) ➞ 5\n",
    "\n",
    "kempner(2) ➞ 2\n"
   ]
  },
  {
   "cell_type": "code",
   "execution_count": 14,
   "id": "0dafb7fe",
   "metadata": {},
   "outputs": [],
   "source": [
    "def fact(num):\n",
    "    num1=num-1\n",
    "    for i in range(1,num):\n",
    "        prod=num*num1\n",
    "        num1=num1-1\n",
    "        num=prod\n",
    "    return prod\n",
    "        \n",
    "        \n",
    "        \n",
    "def kempner(num):\n",
    "    i=2\n",
    "    fac=False\n",
    "    while fac==False:\n",
    "        if fact(i)%num==0:\n",
    "            fac=True\n",
    "            break\n",
    "        else:\n",
    "            i=i+1\n",
    "    return i"
   ]
  },
  {
   "cell_type": "code",
   "execution_count": 21,
   "id": "ab4e8c17",
   "metadata": {},
   "outputs": [
    {
     "data": {
      "text/plain": [
       "5"
      ]
     },
     "execution_count": 21,
     "metadata": {},
     "output_type": "execute_result"
    }
   ],
   "source": [
    "kempner(10)"
   ]
  },
  {
   "cell_type": "markdown",
   "id": "a84d3491",
   "metadata": {},
   "source": [
    "5. You work in a factory, and your job is to take items from a conveyor belt and pack them into boxes. Each box can hold a maximum of 10 kgs. Given a list containing the weight (in kg) of each item, how many boxes would you need to pack all of the items?\n",
    "\n",
    "Example\n",
    "\n",
    "boxes([2, 1, 2, 5, 4, 3, 6, 1, 1, 9, 3, 2]) ➞ 5\n",
    "\n",
    "\n",
    "Box 1 = [2, 1, 2, 5] (10kg)\n",
    "\n",
    "Box 2 = [4, 3] (7kg)\n",
    "\n",
    "Box 3 = [6, 1, 1] (8kg)\n",
    "\n",
    "Box 4 = [9] (9kg)\n",
    "\n",
    "Box 5 = [3, 2] (5kg)\n"
   ]
  },
  {
   "cell_type": "code",
   "execution_count": 58,
   "id": "2b5a0687",
   "metadata": {},
   "outputs": [],
   "source": [
    "def boxes(li):\n",
    "    i=0\n",
    "    counter=0\n",
    "    while i<=len(li)-1:\n",
    "        box=[]\n",
    "        while sum(box.appe)\n",
    "        \n",
    "    "
   ]
  },
  {
   "cell_type": "code",
   "execution_count": 59,
   "id": "071d1eae",
   "metadata": {},
   "outputs": [
    {
     "name": "stdout",
     "output_type": "stream",
     "text": [
      "[]\n",
      "0\n",
      "[2]\n",
      "1\n",
      "[2, 1]\n",
      "2\n",
      "[2, 1, 2]\n",
      "3\n",
      "[]\n",
      "4\n",
      "[4]\n",
      "5\n",
      "[4, 3]\n",
      "6\n",
      "[4, 3, 6]\n",
      "7\n",
      "[4, 3, 6, 1]\n",
      "8\n",
      "[4, 3, 6, 1, 1]\n",
      "9\n",
      "[4, 3, 6, 1, 1, 9]\n",
      "10\n",
      "[4, 3, 6, 1, 1, 9, 3]\n",
      "11\n",
      "[4, 3, 6, 1, 1, 9, 3, 2]\n",
      "12\n"
     ]
    },
    {
     "ename": "IndexError",
     "evalue": "list index out of range",
     "output_type": "error",
     "traceback": [
      "\u001b[1;31m---------------------------------------------------------------------------\u001b[0m",
      "\u001b[1;31mIndexError\u001b[0m                                Traceback (most recent call last)",
      "\u001b[1;32mC:\\Users\\AADITY~1\\AppData\\Local\\Temp/ipykernel_10276/2354558693.py\u001b[0m in \u001b[0;36m<module>\u001b[1;34m\u001b[0m\n\u001b[1;32m----> 1\u001b[1;33m \u001b[0mboxes\u001b[0m\u001b[1;33m(\u001b[0m\u001b[1;33m[\u001b[0m\u001b[1;36m2\u001b[0m\u001b[1;33m,\u001b[0m \u001b[1;36m1\u001b[0m\u001b[1;33m,\u001b[0m \u001b[1;36m2\u001b[0m\u001b[1;33m,\u001b[0m \u001b[1;36m5\u001b[0m\u001b[1;33m,\u001b[0m \u001b[1;36m4\u001b[0m\u001b[1;33m,\u001b[0m \u001b[1;36m3\u001b[0m\u001b[1;33m,\u001b[0m \u001b[1;36m6\u001b[0m\u001b[1;33m,\u001b[0m \u001b[1;36m1\u001b[0m\u001b[1;33m,\u001b[0m \u001b[1;36m1\u001b[0m\u001b[1;33m,\u001b[0m \u001b[1;36m9\u001b[0m\u001b[1;33m,\u001b[0m \u001b[1;36m3\u001b[0m\u001b[1;33m,\u001b[0m \u001b[1;36m2\u001b[0m\u001b[1;33m]\u001b[0m\u001b[1;33m)\u001b[0m\u001b[1;33m\u001b[0m\u001b[1;33m\u001b[0m\u001b[0m\n\u001b[0m",
      "\u001b[1;32mC:\\Users\\AADITY~1\\AppData\\Local\\Temp/ipykernel_10276/3818511555.py\u001b[0m in \u001b[0;36mboxes\u001b[1;34m(li)\u001b[0m\n\u001b[0;32m      7\u001b[0m             \u001b[0mprint\u001b[0m\u001b[1;33m(\u001b[0m\u001b[0mbox\u001b[0m\u001b[1;33m)\u001b[0m\u001b[1;33m\u001b[0m\u001b[1;33m\u001b[0m\u001b[0m\n\u001b[0;32m      8\u001b[0m             \u001b[0mprint\u001b[0m\u001b[1;33m(\u001b[0m\u001b[0mi\u001b[0m\u001b[1;33m)\u001b[0m\u001b[1;33m\u001b[0m\u001b[1;33m\u001b[0m\u001b[0m\n\u001b[1;32m----> 9\u001b[1;33m             \u001b[0mbox\u001b[0m\u001b[1;33m.\u001b[0m\u001b[0mappend\u001b[0m\u001b[1;33m(\u001b[0m\u001b[0mli\u001b[0m\u001b[1;33m[\u001b[0m\u001b[0mi\u001b[0m\u001b[1;33m]\u001b[0m\u001b[1;33m)\u001b[0m\u001b[1;33m\u001b[0m\u001b[1;33m\u001b[0m\u001b[0m\n\u001b[0m\u001b[0;32m     10\u001b[0m             \u001b[0mi\u001b[0m\u001b[1;33m=\u001b[0m\u001b[0mi\u001b[0m\u001b[1;33m+\u001b[0m\u001b[1;36m1\u001b[0m\u001b[1;33m\u001b[0m\u001b[1;33m\u001b[0m\u001b[0m\n\u001b[0;32m     11\u001b[0m         \u001b[0mcounter\u001b[0m\u001b[1;33m=\u001b[0m\u001b[0mcounter\u001b[0m\u001b[1;33m+\u001b[0m\u001b[1;36m1\u001b[0m\u001b[1;33m\u001b[0m\u001b[1;33m\u001b[0m\u001b[0m\n",
      "\u001b[1;31mIndexError\u001b[0m: list index out of range"
     ]
    }
   ],
   "source": [
    "boxes([2, 1, 2, 5, 4, 3, 6, 1, 1, 9, 3, 2])"
   ]
  },
  {
   "cell_type": "code",
   "execution_count": 64,
   "id": "adc6698e",
   "metadata": {},
   "outputs": [],
   "source": [
    "li=[]"
   ]
  },
  {
   "cell_type": "code",
   "execution_count": 66,
   "id": "e9b01918",
   "metadata": {},
   "outputs": [
    {
     "name": "stdout",
     "output_type": "stream",
     "text": [
      "1\n",
      "3\n",
      "6\n"
     ]
    }
   ],
   "source": [
    "for i in range(1,4):\n",
    "    li.append(i)\n",
    "    print(sum(li))"
   ]
  },
  {
   "cell_type": "code",
   "execution_count": null,
   "id": "a3ff530c",
   "metadata": {},
   "outputs": [],
   "source": []
  }
 ],
 "metadata": {
  "kernelspec": {
   "display_name": "Python 3 (ipykernel)",
   "language": "python",
   "name": "python3"
  },
  "language_info": {
   "codemirror_mode": {
    "name": "ipython",
    "version": 3
   },
   "file_extension": ".py",
   "mimetype": "text/x-python",
   "name": "python",
   "nbconvert_exporter": "python",
   "pygments_lexer": "ipython3",
   "version": "3.9.7"
  }
 },
 "nbformat": 4,
 "nbformat_minor": 5
}
