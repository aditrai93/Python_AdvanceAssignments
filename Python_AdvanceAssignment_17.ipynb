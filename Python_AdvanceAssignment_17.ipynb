{
 "cells": [
  {
   "cell_type": "markdown",
   "id": "2eca5da0",
   "metadata": {},
   "source": [
    "1. Create a function that transposes a 2D matrix.\n",
    "\n",
    "Examples\n",
    "\n",
    "transpose_matrix([\n",
    "  [1, 1, 1],\n",
    "  [2, 2, 2],\n",
    "  [3, 3, 3]\n",
    "]) ➞ [\n",
    "  [1, 2, 3],\n",
    "  [1, 2, 3],\n",
    "  [1, 2, 3]\n",
    "]\n",
    "\n",
    "transpose_matrix([\n",
    "  [5, 5],\n",
    "  [6, 7],\n",
    "  [9, 1]\n",
    "]) ➞ [\n",
    "  [5, 6, 9],\n",
    "  [5, 7, 1]\n",
    "]\n"
   ]
  },
  {
   "cell_type": "code",
   "execution_count": 1,
   "id": "2af85c95",
   "metadata": {},
   "outputs": [],
   "source": [
    "def transpose_matrix(li):\n",
    "    transpose=[]\n",
    "    for i in range(len(li[0])):\n",
    "        temp=[]\n",
    "        for j in range(len(li)):\n",
    "            temp.append(li[j][i])\n",
    "        transpose.append(temp)\n",
    "    return transpose"
   ]
  },
  {
   "cell_type": "code",
   "execution_count": 2,
   "id": "d15c687f",
   "metadata": {},
   "outputs": [
    {
     "data": {
      "text/plain": [
       "[[5, 6, 9], [5, 7, 1]]"
      ]
     },
     "execution_count": 2,
     "metadata": {},
     "output_type": "execute_result"
    }
   ],
   "source": [
    "transpose_matrix([ [5, 5], [6, 7], [9, 1] ])"
   ]
  },
  {
   "cell_type": "markdown",
   "id": "f18bc919",
   "metadata": {},
   "source": [
    "2. Create a function that determines whether a string is a valid hex code.\n",
    "\n",
    "A hex code must begin with a pound key # and is exactly 6 characters in length. Each character must be a digit from 0-9 or an alphabetic character from A-F. All alphabetic characters may be uppercase or lowercase.\n",
    "\n",
    "Examples\n",
    "\n",
    "is_valid_hex_code(\"#CD5C5C\") ➞ True\n",
    "\n",
    "is_valid_hex_code(\"#EAECEE\") ➞ True\n",
    "\n",
    "is_valid_hex_code(\"#eaecee\") ➞ True\n",
    "\n",
    "is_valid_hex_code(\"#CD5C58C\") ➞ False\n",
    "#Length exceeds 6\n",
    "\n",
    "is_valid_hex_code(\"#CD5C5Z\") ➞ False\n",
    "#Not all alphabetic characters in A-F\n",
    "\n",
    "is_valid_hex_code(\"#CD5C&C\") ➞ False\n",
    "#Contains unacceptable character\n",
    "\n",
    "is_valid_hex_code(\"CD5C5C\") ➞ False\n",
    "#Missing #\n"
   ]
  },
  {
   "cell_type": "code",
   "execution_count": 3,
   "id": "e097ae9d",
   "metadata": {},
   "outputs": [],
   "source": [
    "def is_valid_hex_code(st):\n",
    "    li=[\"a\",\"b\",\"c\",\"d\",\"e\",\"f\",\"0\",\"1\",\"2\",\"3\",\"4\",\"5\",\"6\",\"7\",\"8\",\"9\"]\n",
    "    li2=[0,1,2,3,4,5,6,7,8,9]\n",
    "    code=True\n",
    "    if len(st)!=7:\n",
    "        code=False\n",
    "    else:\n",
    "        for i in range(len(st)):\n",
    "            if i==0 and st[i]!=\"#\":\n",
    "                code=False\n",
    "                break\n",
    "            elif i>0 and st[i].lower() not in li:\n",
    "                code=False\n",
    "                break\n",
    "    return code\n",
    "    "
   ]
  },
  {
   "cell_type": "code",
   "execution_count": 4,
   "id": "e839e236",
   "metadata": {},
   "outputs": [
    {
     "data": {
      "text/plain": [
       "False"
      ]
     },
     "execution_count": 4,
     "metadata": {},
     "output_type": "execute_result"
    }
   ],
   "source": [
    "is_valid_hex_code(\"CD5C5C\")"
   ]
  },
  {
   "cell_type": "markdown",
   "id": "ef7c58ad",
   "metadata": {},
   "source": [
    "3. Given a list of math equations (given as strings), return the percentage of correct answers as a string. Round to the nearest whole number.\n",
    "\n",
    "Examples\n",
    "\n",
    "mark_maths([\"2+2=4\", \"3+2=5\", \"10-3=3\", \"5+5=10\"]) ➞ \"75%\"\n",
    "\n",
    "mark_maths([\"1-2=-2\"]), \"0%\"\n",
    "\n",
    "mark_maths([\"2+3=5\", \"4+4=9\", \"3-1=2\"]) ➞ \"67%\"\n"
   ]
  },
  {
   "cell_type": "code",
   "execution_count": 5,
   "id": "296b1291",
   "metadata": {},
   "outputs": [],
   "source": [
    "def mark_maths(li):\n",
    "    count=0\n",
    "    for eqn in li:\n",
    "        ind=eqn.index(\"=\")\n",
    "        ans=eqn[ind+1::]\n",
    "        if ans==str(eval(eqn[:ind:])):\n",
    "            count=count+1\n",
    "    per = (count/len(li))*100\n",
    "    per=str(int(round(per)))+\"%\"\n",
    "    return per\n",
    "    "
   ]
  },
  {
   "cell_type": "code",
   "execution_count": 6,
   "id": "78bb782f",
   "metadata": {},
   "outputs": [
    {
     "data": {
      "text/plain": [
       "'67%'"
      ]
     },
     "execution_count": 6,
     "metadata": {},
     "output_type": "execute_result"
    }
   ],
   "source": [
    "mark_maths([\"2+3=5\", \"4+4=9\", \"3-1=2\"])"
   ]
  },
  {
   "cell_type": "markdown",
   "id": "e4b97f96",
   "metadata": {},
   "source": [
    "4. There are two players, Alice and Bob, each with a 3-by-3 grid. A referee tells Alice to fill out one particular row in the grid (say the second row) by putting either a 1 or a 0 in each box, such that the sum of the numbers in that row is odd. The referee tells Bob to fill out one column in the grid (say the first column) by putting either a 1 or a 0 in each box, such that the sum of the numbers in that column is even.\n",
    "\n",
    "Alice and Bob win the game if Alice’s numbers give an odd sum, Bob’s give an even sum, and (most important) they’ve each written down the same number in the one square where their row and column intersect.\n",
    "\n",
    "Examples\n",
    "\n",
    "magic_square_game([2, \"100\"], [1, \"101\"]) ➞ False\n",
    "\n",
    "magic_square_game([2, \"001\"], [1, \"101\"]) ➞ True\n",
    "\n",
    "magic_square_game([3, \"111\"], [2, \"011\"]) ➞ True\n",
    "\n",
    "magic_square_game([1, \"010\"], [3, \"101\"]) ➞ False\n",
    "\n",
    "#Two lists, Alice [row, \"her choice\"], Bob [column, \"his choice\"]\n"
   ]
  },
  {
   "cell_type": "code",
   "execution_count": 7,
   "id": "36ecf254",
   "metadata": {},
   "outputs": [],
   "source": [
    "def magic_square_game(Alice,Bob):\n",
    "        s1=0\n",
    "        s2=0\n",
    "        state=True\n",
    "        for num in Alice[1]:\n",
    "            for i in num:\n",
    "                if i.isdigit():\n",
    "                    s1=s1+int(i)\n",
    "\n",
    "        for num in Bob[1]:\n",
    "            for i in num:\n",
    "                if i.isdigit():\n",
    "                    s2=s2+int(i)\n",
    "        if s1%2==0 or s2%2!=0 or Alice[1][Alice[0]-1]!=Bob[1][Bob[0]-1]:\n",
    "            state=False    \n",
    "\n",
    "        return state\n",
    "        "
   ]
  },
  {
   "cell_type": "code",
   "execution_count": 8,
   "id": "9b6fa22e",
   "metadata": {},
   "outputs": [
    {
     "data": {
      "text/plain": [
       "True"
      ]
     },
     "execution_count": 8,
     "metadata": {},
     "output_type": "execute_result"
    }
   ],
   "source": [
    "magic_square_game([3, \"111\"], [2, \"011\"])"
   ]
  },
  {
   "cell_type": "markdown",
   "id": "e2c487d3",
   "metadata": {},
   "source": [
    "5. From point A, an object is moving towards point B at constant velocity va (in km/hr). From point B, another object is moving towards point A at constant velocity vb (in km/hr). Knowing this and the distance between point A and B (in km), write a function that returns how much time passes until both objects meet.\n",
    "\n",
    "Format the output like this:\n",
    "\n",
    "\"2h 23min 34s\"\n",
    "\n",
    "Examples\n",
    "\n",
    "lets_meet(100, 10, 30) ➞ \"2h 30min 0s\"\n",
    "\n",
    "lets_meet(280, 70, 80) ➞ \"1h 52min 0s\"\n",
    "\n",
    "lets_meet(90, 75, 65) ➞ \"0h 38min 34s\"\n"
   ]
  },
  {
   "cell_type": "code",
   "execution_count": 9,
   "id": "9c3cd0d8",
   "metadata": {},
   "outputs": [],
   "source": [
    "def lets_meet(dist,VA,VB):\n",
    "    total_dist_cover_per_hour=VA+VB\n",
    "    total_time_cover_dist=dist/total_dist_cover_per_hour\n",
    "    hour=int(total_time_cover_dist)\n",
    "    sub=total_time_cover_dist-hour\n",
    "    Min=int((sub)*60)\n",
    "    sec=int(((sub*60)-Min)*60)\n",
    "    \n",
    "    return str(hour)+\"h \"+str(Min)+\"min \"+str(sec)+\"s\""
   ]
  },
  {
   "cell_type": "code",
   "execution_count": 10,
   "id": "7174457e",
   "metadata": {},
   "outputs": [
    {
     "data": {
      "text/plain": [
       "'0h 38min 34s'"
      ]
     },
     "execution_count": 10,
     "metadata": {},
     "output_type": "execute_result"
    }
   ],
   "source": [
    "lets_meet(90, 75, 65)"
   ]
  },
  {
   "cell_type": "code",
   "execution_count": null,
   "id": "b018ae7a",
   "metadata": {},
   "outputs": [],
   "source": []
  }
 ],
 "metadata": {
  "kernelspec": {
   "display_name": "Python 3 (ipykernel)",
   "language": "python",
   "name": "python3"
  },
  "language_info": {
   "codemirror_mode": {
    "name": "ipython",
    "version": 3
   },
   "file_extension": ".py",
   "mimetype": "text/x-python",
   "name": "python",
   "nbconvert_exporter": "python",
   "pygments_lexer": "ipython3",
   "version": "3.9.12"
  }
 },
 "nbformat": 4,
 "nbformat_minor": 5
}
