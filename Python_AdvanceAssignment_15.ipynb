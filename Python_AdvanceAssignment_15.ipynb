{
 "cells": [
  {
   "cell_type": "markdown",
   "id": "2721ad05",
   "metadata": {},
   "source": [
    "1. Write a function that returns True if a given name can generate an array of words.\n",
    "\n",
    "Examples\n",
    "\n",
    "anagram(\"Justin Bieber\", [\"injures\", \"ebb\", \"it\"]) ➞ True\n",
    "\n",
    "anagram(\"Natalie Portman\", [\"ornamental\", \"pita\"]) ➞ True\n",
    "\n",
    "anagram(\"Chris Pratt\", [\"chirps\", \"rat\"]) ➞ False\n",
    "\n",
    "#Not all letters are used\n",
    "\n",
    "anagram(\"Jeff Goldblum\", [\"jog\", \"meld\", \"bluffs\"]) ➞ False\n",
    "\n",
    "#\"s\" does not exist in the original name\n"
   ]
  },
  {
   "cell_type": "code",
   "execution_count": 1,
   "id": "59dced64",
   "metadata": {},
   "outputs": [],
   "source": [
    "def anagram(st,li):\n",
    "    count=0\n",
    "    let_li=[]\n",
    "    count2=0\n",
    "    anagram=True\n",
    "    for words in st.split(\" \"):\n",
    "        count=count+len(words)\n",
    "        for letters in words.lower():\n",
    "            let_li.append(letters)\n",
    "\n",
    "    for words in li:\n",
    "        count2=count2+len(words)\n",
    "    if count!=count2:\n",
    "        anagram=False\n",
    "    else:\n",
    "        for words in li:\n",
    "            if anagram==True:\n",
    "                for letter in words:\n",
    "                    if letter in st.lower() and letter in let_li:\n",
    "                        let_li.remove(letter) \n",
    "                    else:\n",
    "                        anagram=False\n",
    "                        break\n",
    "                    \n",
    "    return anagram\n",
    "    "
   ]
  },
  {
   "cell_type": "code",
   "execution_count": 2,
   "id": "c40832e4",
   "metadata": {},
   "outputs": [
    {
     "data": {
      "text/plain": [
       "True"
      ]
     },
     "execution_count": 2,
     "metadata": {},
     "output_type": "execute_result"
    }
   ],
   "source": [
    "anagram(\"Justin Bieber\", [\"injures\", \"ebb\", \"it\"])"
   ]
  },
  {
   "cell_type": "markdown",
   "id": "a268619f",
   "metadata": {},
   "source": [
    "2. Given an array of users, each defined by an object with the following properties: name, score, reputation create a function that sorts the array to form the correct leaderboard.\n",
    "\n",
    "The leaderboard takes into consideration the score of each user of course, but an emphasis is put on their reputation in the community, so to get the trueScore, you should add the reputation multiplied by 2 to the score.\n",
    "\n",
    "Once you know the trueScore of each user, sort the array according to it in descending order.\n",
    "\n",
    "Examples\n",
    "\n",
    "leaderboards([\n",
    "  { \"name\": \"a\", \"score\": 100, \"reputation\": 20 },\n",
    "  { \"name\": \"b\", \"score\": 90, \"reputation\": 40 },\n",
    "  { \"name\": \"c\", \"score\": 115, \"reputation\": 30 },\n",
    "])\n",
    "\n",
    "\n",
    "➞ [\n",
    "  { \"name\": \"c\", \"score\": 115, \"reputation\": 30 },  # trueScore = 175\n",
    "  { \"name\": \"b\", \"score\": 90, \"reputation\": 40 },   # trueScore = 170\n",
    "  { \"name\": \"a\", \"score\": 100, \"reputation\": 20 }   # trueScore = 140\n",
    "]\n"
   ]
  },
  {
   "cell_type": "code",
   "execution_count": 3,
   "id": "449a31d4",
   "metadata": {},
   "outputs": [],
   "source": [
    "li=[ { \"name\": \"a\", \"score\": 100, \"reputation\": 20 }, { \"name\": \"b\", \"score\": 90, \"reputation\": 40 }, { \"name\": \"c\", \"score\": 115, \"reputation\": 30 }]"
   ]
  },
  {
   "cell_type": "code",
   "execution_count": 4,
   "id": "a1d33924",
   "metadata": {},
   "outputs": [],
   "source": [
    "def leaderboards(li):\n",
    "    new_li=[]\n",
    "    li2=[]\n",
    "    di={}\n",
    "    di2={}\n",
    "    di3={}\n",
    "    for i in li:\n",
    "        new_li.append((i[\"reputation\"]*2)+i['score'])\n",
    "    \n",
    "    for i in new_li:\n",
    "        di[i]=new_li.index(i)\n",
    "\n",
    "    new_li.sort(reverse=True)\n",
    "    for i in new_li:\n",
    "        di2[i]=new_li.index(i)\n",
    "        \n",
    "    for i in di:\n",
    "        di3[di[i]]=di2[i]\n",
    "        \n",
    "    for i in range(len(li)):\n",
    "        li2.insert(i,li[di3[i]])\n",
    "    return li2"
   ]
  },
  {
   "cell_type": "code",
   "execution_count": 5,
   "id": "6fea8f97",
   "metadata": {},
   "outputs": [
    {
     "data": {
      "text/plain": [
       "[{'name': 'c', 'score': 115, 'reputation': 30},\n",
       " {'name': 'b', 'score': 90, 'reputation': 40},\n",
       " {'name': 'a', 'score': 100, 'reputation': 20}]"
      ]
     },
     "execution_count": 5,
     "metadata": {},
     "output_type": "execute_result"
    }
   ],
   "source": [
    "leaderboards(li)"
   ]
  },
  {
   "cell_type": "markdown",
   "id": "624975ef",
   "metadata": {},
   "source": [
    "3. Create a function that, given a phrase and a number of letters guessed, returns a string with hyphens - for every letter of the phrase not guessed, and each letter guessed in place.\n",
    "\n",
    "Examples\n",
    "\n",
    "hangman(\"helicopter\", [\"o\", \"e\", \"s\"]) ➞ \"-e---o--e-\"\n",
    "\n",
    "hangman(\"tree\", [\"r\", \"t\", \"e\"]) ➞ \"tree\"\n",
    "\n",
    "hangman(\"Python rules\", [\"a\", \"n\", \"p\", \"r\", \"z\"]) ➞ \"P----n r----\"\n",
    "\n",
    "hangman(\"He\"s a very naughty boy!\", [\"e\", \"a\", \"y\"]) ➞ \"-e\"- a -e-y -a----y –y!\"\n"
   ]
  },
  {
   "cell_type": "code",
   "execution_count": 6,
   "id": "529fec46",
   "metadata": {},
   "outputs": [],
   "source": [
    "import string\n",
    "def hangman(st,li):\n",
    "    new_st=\"\"\n",
    "    for i in st.lower():\n",
    "        if i in li:\n",
    "            new_st=new_st+i\n",
    "        elif i==\" \":\n",
    "            new_st=new_st+\" \"\n",
    "        elif i in string.punctuation:\n",
    "            new_st=new_st+i\n",
    "        else:\n",
    "            new_st=new_st+\"-\"\n",
    "    return new_st\n",
    "    "
   ]
  },
  {
   "cell_type": "code",
   "execution_count": 7,
   "id": "6c7034bf",
   "metadata": {},
   "outputs": [
    {
     "data": {
      "text/plain": [
       "\"-e'- a -e-y -a----y --y!\""
      ]
     },
     "execution_count": 7,
     "metadata": {},
     "output_type": "execute_result"
    }
   ],
   "source": [
    "hangman(\"He's a very naughty boy!\", [\"e\", \"a\", \"y\"])"
   ]
  },
  {
   "cell_type": "markdown",
   "id": "3b1c1421",
   "metadata": {},
   "source": [
    "4. The Collatz sequence is as follows:\n",
    "\n",
    "  - Start with some given integer n.\n",
    "  - If it is even, the next number will be n divided by 2.\n",
    "  - If it is odd, multiply it by 3 and add 1 to make the next number.\n",
    "  - The sequence stops when it reaches 1.\n",
    "\n",
    "According to the Collatz conjecture, it will always reach 1. If that's true, you can construct a finite sequence following the aforementioned method for any given integer.\n",
    "\n",
    "Write a function that takes in an integer n and returns the highest integer in the corresponding Collatz sequence.\n",
    "\n",
    "Examples\n",
    "\n",
    "max_collatz(10) ➞ 16\n",
    "\n",
    "Collatz sequence: 10, 5, 16, 8, 4, 2, 1\n",
    "\n",
    "max_collatz(32) ➞ 32\n",
    "#Collatz sequence: 32, 16, 8, 4, 2, 1\n",
    "\n",
    "max_collatz(85) ➞ 256\n",
    "#Collatz sequence: 85, 256, 128, 64, 32, 16, 8, 4, 2, 1\n"
   ]
  },
  {
   "cell_type": "code",
   "execution_count": 8,
   "id": "c4b6cd1c",
   "metadata": {},
   "outputs": [],
   "source": [
    "def max_collatz(num):\n",
    "    li=[]\n",
    "    if num!=1:\n",
    "        n=num\n",
    "        li.append(num)\n",
    "        while n!=1:\n",
    "            if n%2==0:\n",
    "                n=n//2\n",
    "                li.append(n)\n",
    "            else:\n",
    "                n=(n*3)+1\n",
    "                li.append(n)\n",
    "    return li"
   ]
  },
  {
   "cell_type": "code",
   "execution_count": 9,
   "id": "68aedd2d",
   "metadata": {},
   "outputs": [
    {
     "data": {
      "text/plain": [
       "[85, 256, 128, 64, 32, 16, 8, 4, 2, 1]"
      ]
     },
     "execution_count": 9,
     "metadata": {},
     "output_type": "execute_result"
    }
   ],
   "source": [
    "max_collatz(85)"
   ]
  },
  {
   "cell_type": "markdown",
   "id": "ab9ac19c",
   "metadata": {},
   "source": [
    "5. Write a function that sorts a list of integers by their digit length in descending order, then settles ties by sorting numbers with the same digit length in ascending order.\n",
    "\n",
    "Examples\n",
    "\n",
    "digit_sort([77, 23, 5, 7, 101])\n",
    "➞ [101, 23, 77, 5, 7]\n",
    "\n",
    "digit_sort([1, 5, 9, 2, 789, 563, 444])\n",
    "➞ [444, 563, 789, 1, 2, 5, 9]\n",
    "\n",
    "digit_sort([53219, 3772, 564, 32, 1])\n",
    "➞ [53219, 3772, 564, 32, 1]\n"
   ]
  },
  {
   "cell_type": "code",
   "execution_count": 10,
   "id": "937d0579",
   "metadata": {},
   "outputs": [],
   "source": [
    "def digit_sort(li):\n",
    "    li.sort(reverse=True)\n",
    "    length=len(str(li[0]))\n",
    "    li2=[]\n",
    "    new_li=[]\n",
    "    for i in range(len(li)):\n",
    "        if len(str(li[i]))==length:\n",
    "            li2.append(li[i])\n",
    "        else:\n",
    "            li2.sort()\n",
    "            for j in li2:\n",
    "                new_li.append(j)\n",
    "            length=len(str(li[i]))\n",
    "            li2=[]\n",
    "            li2.append(li[i])\n",
    "            \n",
    "    li2.sort()\n",
    "    for j in li2:\n",
    "        new_li.append(j)\n",
    "            \n",
    "    return new_li\n",
    "        "
   ]
  },
  {
   "cell_type": "code",
   "execution_count": 11,
   "id": "3ca106d0",
   "metadata": {},
   "outputs": [
    {
     "data": {
      "text/plain": [
       "[53219, 3772, 564, 32, 1]"
      ]
     },
     "execution_count": 11,
     "metadata": {},
     "output_type": "execute_result"
    }
   ],
   "source": [
    "digit_sort([53219, 3772, 564, 32, 1])"
   ]
  },
  {
   "cell_type": "code",
   "execution_count": null,
   "id": "0859e449",
   "metadata": {},
   "outputs": [],
   "source": []
  }
 ],
 "metadata": {
  "kernelspec": {
   "display_name": "Python 3 (ipykernel)",
   "language": "python",
   "name": "python3"
  },
  "language_info": {
   "codemirror_mode": {
    "name": "ipython",
    "version": 3
   },
   "file_extension": ".py",
   "mimetype": "text/x-python",
   "name": "python",
   "nbconvert_exporter": "python",
   "pygments_lexer": "ipython3",
   "version": "3.9.12"
  }
 },
 "nbformat": 4,
 "nbformat_minor": 5
}
