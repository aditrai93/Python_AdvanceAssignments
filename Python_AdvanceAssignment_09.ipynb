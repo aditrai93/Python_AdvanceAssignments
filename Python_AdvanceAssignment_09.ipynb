{
 "cells": [
  {
   "cell_type": "markdown",
   "id": "b35bd104",
   "metadata": {},
   "source": [
    "1. YouTube offers different playback speed options for users. This allows users to increase or decrease the speed of the video content. Given the actual duration and playback speed of the video, calculate the playback duration of the video.\n",
    "\n",
    "Examples\n",
    "\n",
    "playback_duration(\"00:30:00\", 2) ➞ \"00:15:00\"\n",
    "\n",
    "playback_duration(\"01:20:00\", 1.5) ➞ \"00:53:20\"\n",
    "\n",
    "playback_duration(\"51:20:09\", 0.5) ➞ \"102:40:18\"\n"
   ]
  },
  {
   "cell_type": "code",
   "execution_count": 59,
   "id": "8bbd086a",
   "metadata": {},
   "outputs": [],
   "source": [
    "def playback_duration(duration,rate):\n",
    "    li=duration.split(\":\")\n",
    "    HrToSec=int(li[0])*3600\n",
    "    MinToSec=int(li[1])*60\n",
    "    sec=int(li[2])\n",
    "    TotalSec=HrToSec+MinToSec+sec\n",
    "    NewDuration=TotalSec/rate\n",
    "    Hour=NewDuration/3600\n",
    "    NewHour=str(int(Hour))\n",
    "    Min=float(\"0.\"+(str(Hour).split(\".\")[1]))\n",
    "    M=Min*60\n",
    "    NewMin=str(int(M))\n",
    "    Sec=float(\"0.\"+(str(M).split(\".\")[1]))\n",
    "    NewSec=str(int(Sec*60))\n",
    "    NewLi=[]\n",
    "    if NewHour==\"0\":\n",
    "        NewLi.append(\"00\")\n",
    "    else:\n",
    "        NewLi.append(NewHour)\n",
    "    if NewMin==\"0\":\n",
    "        NewLi.append(\"00\")\n",
    "    else:\n",
    "        NewLi.append(NewMin)\n",
    "    if NewSec==\"0\":\n",
    "        NewLi.append(\"00\")\n",
    "    else:\n",
    "        NewLi.append(NewSec)\n",
    "    return \":\".join(NewLi)\n",
    "    \n",
    "    "
   ]
  },
  {
   "cell_type": "code",
   "execution_count": 61,
   "id": "4b74b6d6",
   "metadata": {},
   "outputs": [
    {
     "data": {
      "text/plain": [
       "'00:15:00'"
      ]
     },
     "execution_count": 61,
     "metadata": {},
     "output_type": "execute_result"
    }
   ],
   "source": [
    "playback_duration(\"00:30:00\", 2)"
   ]
  },
  {
   "cell_type": "markdown",
   "id": "8d84cab5",
   "metadata": {},
   "source": [
    "2. We needs your help to construct a building which will be a pile of n cubes. The cube at the bottom will have a volume of n^3, the cube above will have volume of (n-1)^3 and so on until the top which will have a volume of 1^3.\n",
    "\n",
    "Given the total volume m of the building, can you find the number of cubes n required for the building?\n",
    "\n",
    "In other words, you have to return an integer n such that:\n",
    "\n",
    "n^3 + (n-1)^3 + ... + 1^3 == m\n",
    "\n",
    "Return None if there is no such number.\n",
    "\n",
    "Examples\n",
    "\n",
    "pile_of_cubes(1071225) ➞ 45\n",
    "\n",
    "pile_of_cubes(4183059834009) ➞ 2022\n",
    "\n",
    "pile_of_cubes(16) ➞ None\n"
   ]
  },
  {
   "cell_type": "code",
   "execution_count": 9,
   "id": "4b6efddf",
   "metadata": {},
   "outputs": [],
   "source": [
    "def pile_of_cubes(Total_vol):\n",
    "    i=1\n",
    "    while(Total_vol>0):\n",
    "        temp=i*i*i\n",
    "        Total_vol=Total_vol-temp\n",
    "        i=i+1\n",
    "    if(Total_vol<0):\n",
    "        n=\"None\"\n",
    "    else:\n",
    "        n=i-1\n",
    "\n",
    "\n",
    "    \n",
    "\n",
    "    return n"
   ]
  },
  {
   "cell_type": "code",
   "execution_count": 12,
   "id": "c34268a3",
   "metadata": {},
   "outputs": [
    {
     "data": {
      "text/plain": [
       "2022"
      ]
     },
     "execution_count": 12,
     "metadata": {},
     "output_type": "execute_result"
    }
   ],
   "source": [
    "pile_of_cubes(4183059834009)"
   ]
  },
  {
   "cell_type": "markdown",
   "id": "cf600a43",
   "metadata": {},
   "source": [
    "3. A fulcrum of a list is an integer such that all elements to the left of it and all elements to the right of it sum to the same value. Write a function that finds the fulcrum of a list.\n",
    "\n",
    "To illustrate:\n",
    "\n",
    "find_fulcrum([3, 1, 5, 2, 4, 6, -1]) ➞ 2\n",
    "// Since [3, 1, 5] and [4, 6, -1] both sum to 9\n",
    "\n",
    "Examples\n",
    "\n",
    "find_fulcrum([1, 2, 4, 9, 10, -10, -9, 3]) ➞ 4\n",
    "\n",
    "find_fulcrum([9, 1, 9]) ➞ 1\n",
    "\n",
    "find_fulcrum([7, -1, 0, -1, 1, 1, 2, 3]) ➞ 0\n",
    "\n",
    "find_fulcrum([8, 8, 8, 8]) ➞ -1\n"
   ]
  },
  {
   "cell_type": "code",
   "execution_count": 21,
   "id": "2aaa0f88",
   "metadata": {},
   "outputs": [],
   "source": [
    "def find_fulcrum(li):\n",
    "    fulcrum=-1\n",
    "    for i in range(1,len(li)-1):\n",
    "        if sum(li[0:i])==sum(li[len(li)-1:i:-1]):\n",
    "            fulcrum=li[i]\n",
    "            break\n",
    "    return fulcrum\n",
    "        "
   ]
  },
  {
   "cell_type": "code",
   "execution_count": 26,
   "id": "dbe385e4",
   "metadata": {},
   "outputs": [
    {
     "data": {
      "text/plain": [
       "2"
      ]
     },
     "execution_count": 26,
     "metadata": {},
     "output_type": "execute_result"
    }
   ],
   "source": [
    "find_fulcrum([3, 1, 5, 2, 4, 6, -1])"
   ]
  },
  {
   "cell_type": "markdown",
   "id": "2f6b7b00",
   "metadata": {},
   "source": [
    "4. Given a list of integers representing the color of each sock, determine how many pairs of socks with matching colors there are. For example, there are 7 socks with colors [1, 2, 1, 2, 1, 3, 2]. There is one pair of color 1 and one of color 2. There are three odd socks left, one of each color. The number of pairs is 2.\n",
    "\n",
    "Create a function that returns an integer representing the number of matching pairs of socks that are available.\n",
    "\n",
    "Examples\n",
    "\n",
    "sock_merchant([10, 20, 20, 10, 10, 30, 50, 10, 20]) ➞ 3\n",
    "\n",
    "sock_merchant([50, 20, 30, 90, 30, 20, 50, 20, 90]) ➞ 4\n",
    "\n",
    "sock_merchant([]) ➞ 0\n"
   ]
  },
  {
   "cell_type": "code",
   "execution_count": 29,
   "id": "f7f9ddf0",
   "metadata": {},
   "outputs": [],
   "source": [
    "def sock_merchant(li):\n",
    "    match=0\n",
    "    l=[]\n",
    "    for i in li:\n",
    "        if i not in l:\n",
    "            l.append(i)\n",
    "            s=li.count(i)//2\n",
    "            match=match+s\n",
    "    return match"
   ]
  },
  {
   "cell_type": "code",
   "execution_count": 33,
   "id": "8f5b9e6c",
   "metadata": {},
   "outputs": [
    {
     "data": {
      "text/plain": [
       "0"
      ]
     },
     "execution_count": 33,
     "metadata": {},
     "output_type": "execute_result"
    }
   ],
   "source": [
    "sock_merchant([])"
   ]
  },
  {
   "cell_type": "markdown",
   "id": "fe552af2",
   "metadata": {},
   "source": [
    "5. Create a function that takes a string containing integers as well as other characters and return the sum of the negative integers only.\n",
    "\n",
    "Examples\n",
    "\n",
    "negative_sum(\"-12 13%14&-11\") ➞ -23\n",
    "\n",
    "-12 + -11 = -23\n",
    "\n",
    "negative_sum(\"22 13%14&-11-22 13 12\") ➞ -33\n",
    "\n",
    "-11 + -22 = -33\n"
   ]
  },
  {
   "cell_type": "code",
   "execution_count": 41,
   "id": "393e2b51",
   "metadata": {},
   "outputs": [],
   "source": [
    "import re\n",
    "def negative_sum(num_str):\n",
    "    res = re.findall('[-+]?\\d+', num_str)\n",
    "    total=0\n",
    "    for i in res:\n",
    "        if int(i)<0:\n",
    "            total=total+int(i)\n",
    "    return total"
   ]
  },
  {
   "cell_type": "code",
   "execution_count": 43,
   "id": "851510db",
   "metadata": {},
   "outputs": [
    {
     "data": {
      "text/plain": [
       "-23"
      ]
     },
     "execution_count": 43,
     "metadata": {},
     "output_type": "execute_result"
    }
   ],
   "source": [
    "negative_sum(\"-12 13%14&-11\")"
   ]
  },
  {
   "cell_type": "code",
   "execution_count": null,
   "id": "2faa70f2",
   "metadata": {},
   "outputs": [],
   "source": []
  }
 ],
 "metadata": {
  "kernelspec": {
   "display_name": "Python 3 (ipykernel)",
   "language": "python",
   "name": "python3"
  },
  "language_info": {
   "codemirror_mode": {
    "name": "ipython",
    "version": 3
   },
   "file_extension": ".py",
   "mimetype": "text/x-python",
   "name": "python",
   "nbconvert_exporter": "python",
   "pygments_lexer": "ipython3",
   "version": "3.9.7"
  }
 },
 "nbformat": 4,
 "nbformat_minor": 5
}
