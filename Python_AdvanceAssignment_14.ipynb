{
 "cells": [
  {
   "cell_type": "markdown",
   "id": "bae58158",
   "metadata": {},
   "source": [
    "1. Given a list of numbers, create a function that removes 25% from every number in the list except the smallest number, and adds the total amount removed to the smallest number.\n",
    "\n",
    "Examples\n",
    "\n",
    "show_the_love([4, 1, 4]) ➞ [3, 3, 3]\n",
    "\n",
    "show_the_love([16, 10, 8]) ➞ [12, 7.5, 14.5]\n",
    "\n",
    "show_the_love([2, 100]) ➞ [27, 75]\n"
   ]
  },
  {
   "cell_type": "code",
   "execution_count": 17,
   "id": "4ce81a16",
   "metadata": {},
   "outputs": [],
   "source": [
    "def show_the_love(li):\n",
    "    l=[]\n",
    "    s=0\n",
    "    for i in li:\n",
    "        if i!=min(li):\n",
    "            s=s+(25*i)/100\n",
    "            x=i-(25*i)/100\n",
    "            l.append(x)\n",
    "    m=min(li)\n",
    "    ind=li.index(m)\n",
    "    s=s+m\n",
    "    l.insert(ind,s)\n",
    "    return l\n",
    "            \n",
    "        "
   ]
  },
  {
   "cell_type": "code",
   "execution_count": 18,
   "id": "56761cbb",
   "metadata": {},
   "outputs": [
    {
     "data": {
      "text/plain": [
       "[12.0, 7.5, 14.5]"
      ]
     },
     "execution_count": 18,
     "metadata": {},
     "output_type": "execute_result"
    }
   ],
   "source": [
    "show_the_love([16, 10, 8])"
   ]
  },
  {
   "cell_type": "markdown",
   "id": "33653057",
   "metadata": {},
   "source": [
    "2. Create a function that takes in two words as input and returns a list of three elements, in the following order:\n",
    "\n",
    "   1.Shared letters between two words.\n",
    "   2.Letters unique to word 1.\n",
    "   3.Letters unique to word 2.\n",
    "\n",
    "Each element should have unique letters, and have each letter be alphabetically sorted.\n",
    "\n",
    "Examples\n",
    "\n",
    "letters(\"sharp\", \"soap\") ➞ [\"aps\", \"hr\", \"o\"]\n",
    "\n",
    "letters(\"board\", \"bored\") ➞ [\"bdor\", \"a\", \"e\"]\n",
    "\n",
    "letters(\"happiness\", \"envelope\") ➞ [\"enp\", \"ahis\", \"lov\"]\n",
    "\n",
    "letters(\"kerfuffle\", \"fluffy\") ➞ [\"flu\", \"ekr\", \"y\"]\n",
    "\n",
    "Even with multiple matching letters (e.g. 3 f's), there should \n",
    "\n",
    "only exist a single \"f\" in your first element.\n",
    "\n",
    "letters(\"match\", \"ham\") ➞ [\"ahm\", \"ct\", \"\"]\n",
    "\n",
    "\"ham\" does not contain any letters that are not found already in \"match\".\n"
   ]
  },
  {
   "cell_type": "code",
   "execution_count": 25,
   "id": "423663ce",
   "metadata": {},
   "outputs": [],
   "source": [
    "def letters(st1, st2):\n",
    "    sh=\"\"\n",
    "    u1=\"\"\n",
    "    u2=\"\"\n",
    "    l=[]\n",
    "    for i in st1:\n",
    "        if i in st2 and i not in sh:\n",
    "            sh=sh+i\n",
    "        if i not in st2 and i not in u1:\n",
    "            u1=u1+i\n",
    "    for j in st2:\n",
    "        if j not in st1 and j not in u2:\n",
    "            u2=u2+j\n",
    "    l.append(sh)\n",
    "    l.append(u1)\n",
    "    l.append(u2)\n",
    "    return l\n",
    "            "
   ]
  },
  {
   "cell_type": "code",
   "execution_count": 30,
   "id": "3a154a74",
   "metadata": {},
   "outputs": [
    {
     "data": {
      "text/plain": [
       "['mah', 'tc', '']"
      ]
     },
     "execution_count": 30,
     "metadata": {},
     "output_type": "execute_result"
    }
   ],
   "source": [
    "letters(\"match\", \"ham\")"
   ]
  },
  {
   "cell_type": "markdown",
   "id": "7de4955e",
   "metadata": {},
   "source": [
    "3. Write a function that pairs the first number in an array with the last, the second number with the second to last, etc.\n",
    "\n",
    "Examples\n",
    "\n",
    "pairs([1, 2, 3, 4, 5, 6, 7]) ➞ [[1, 7], [2, 6], [3, 5], [4, 4]]\n",
    "\n",
    "pairs([1, 2, 3, 4, 5, 6]) ➞ [[1, 6], [2, 5], [3, 4]]\n",
    "\n",
    "pairs([5, 9, 8, 1, 2]) ➞ [[5, 2], [9, 1], [8, 8]]\n",
    "\n",
    "pairs([]) ➞ []\n"
   ]
  },
  {
   "cell_type": "code",
   "execution_count": 35,
   "id": "87044d49",
   "metadata": {},
   "outputs": [],
   "source": [
    "def pairs(li):\n",
    "    le=len(li)-1\n",
    "    li2=[]\n",
    "    if len(li)%2==0:\n",
    "        ran=len(li)//2\n",
    "    else:\n",
    "        ran=(len(li)//2)+1\n",
    "    for i in range(ran):\n",
    "        l=[]\n",
    "        l.append(li[i])\n",
    "        l.append(li[le])\n",
    "        li2.append(l)\n",
    "        le=le-1\n",
    "    return li2\n",
    "        "
   ]
  },
  {
   "cell_type": "code",
   "execution_count": 38,
   "id": "0733ebc5",
   "metadata": {},
   "outputs": [
    {
     "data": {
      "text/plain": [
       "[]"
      ]
     },
     "execution_count": 38,
     "metadata": {},
     "output_type": "execute_result"
    }
   ],
   "source": [
    "pairs([])"
   ]
  },
  {
   "cell_type": "markdown",
   "id": "fabd9ac9",
   "metadata": {},
   "source": [
    "4. Write a function that adds two numbers. The catch, however, is that the numbers will be strings.\n",
    "\n",
    "Examples\n",
    "\n",
    "add_str_nums(\"4\", \"5\") ➞ \"9\"\n",
    "\n",
    "add_str_nums(\"abcdefg\", \"3\") ➞ \"-1\"\n",
    "\n",
    "add_str_nums(\"1\", \"\") ➞ \"1\"\n",
    "\n",
    "add_str_nums(\"1874682736267235927359283579235789257\", \"32652983572985729\") ➞ \"1874682736267235927391936562808774986\"\n"
   ]
  },
  {
   "cell_type": "code",
   "execution_count": 62,
   "id": "ae8f0e3c",
   "metadata": {},
   "outputs": [],
   "source": [
    "def add_str_nums(st1,st2):\n",
    "    s=\"\"\n",
    "    if st1.isnumeric() and st2.isnumeric():\n",
    "        s=s+str(int(st1)+int(st2))\n",
    "    elif st1.isalpha() or st2.isalpha():\n",
    "        s=s+\"-1\"\n",
    "    elif len(st1)==0:\n",
    "        s=s+st2\n",
    "    else:\n",
    "        s=s+st1\n",
    "    return s"
   ]
  },
  {
   "cell_type": "code",
   "execution_count": 64,
   "id": "b7a28fb8",
   "metadata": {},
   "outputs": [
    {
     "data": {
      "text/plain": [
       "'1874682736267235927391936562808774986'"
      ]
     },
     "execution_count": 64,
     "metadata": {},
     "output_type": "execute_result"
    }
   ],
   "source": [
    "add_str_nums(\"1874682736267235927359283579235789257\", \"32652983572985729\")"
   ]
  },
  {
   "cell_type": "markdown",
   "id": "a3626686",
   "metadata": {},
   "source": [
    "5. lPaeesh le pemu mnxit ehess rtnisg! Oh, sorry, that was supposed to say: Please help me unmix these strings!\n",
    "\n",
    "Somehow my strings have all become mixed up; every pair of characters has been swapped. Help me undo this so I can understand my strings again.\n",
    "\n",
    "Examples\n",
    "\n",
    "unmix(\"123456\") ➞ \"214365\"\n",
    "\n",
    "unmix(\"hTsii  s aimex dpus rtni.g\") ➞ \"This is a mixed up string.\"\n",
    "\n",
    "unmix(\"badce\") ➞ \"abcde\"\n"
   ]
  },
  {
   "cell_type": "code",
   "execution_count": 102,
   "id": "932b3e58",
   "metadata": {},
   "outputs": [],
   "source": [
    "def unmix(st):\n",
    "    st1=''\n",
    "    for i in range(len(st)):\n",
    "        if i%2==0 and i+1!=len(st):\n",
    "            st1=st1+st[i+1]+st[i]\n",
    "        elif i==len(st)-1 and i%2==0:\n",
    "            st1=st1+st[i]\n",
    "    return st1\n",
    "        "
   ]
  },
  {
   "cell_type": "code",
   "execution_count": 107,
   "id": "958441b4",
   "metadata": {},
   "outputs": [
    {
     "data": {
      "text/plain": [
       "'Please help me unmix these strings!'"
      ]
     },
     "execution_count": 107,
     "metadata": {},
     "output_type": "execute_result"
    }
   ],
   "source": [
    "unmix(\"lPaeesh le pemu mnxit ehess rtnisg!\")"
   ]
  },
  {
   "cell_type": "code",
   "execution_count": null,
   "id": "74e9451b",
   "metadata": {},
   "outputs": [],
   "source": []
  },
  {
   "cell_type": "code",
   "execution_count": null,
   "id": "bb76377b",
   "metadata": {},
   "outputs": [],
   "source": []
  },
  {
   "cell_type": "code",
   "execution_count": null,
   "id": "34ce5f2b",
   "metadata": {},
   "outputs": [],
   "source": []
  }
 ],
 "metadata": {
  "kernelspec": {
   "display_name": "Python 3 (ipykernel)",
   "language": "python",
   "name": "python3"
  },
  "language_info": {
   "codemirror_mode": {
    "name": "ipython",
    "version": 3
   },
   "file_extension": ".py",
   "mimetype": "text/x-python",
   "name": "python",
   "nbconvert_exporter": "python",
   "pygments_lexer": "ipython3",
   "version": "3.9.7"
  }
 },
 "nbformat": 4,
 "nbformat_minor": 5
}
