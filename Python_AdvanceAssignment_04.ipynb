{
 "cells": [
  {
   "cell_type": "code",
   "execution_count": 22,
   "id": "6023e943",
   "metadata": {},
   "outputs": [],
   "source": [
    "\"\"\"1. In mathematics, the Fibonacci numbers, commonly denoted Fn, form a\n",
    "sequence, called the Fibonacci sequence, such that each number is the sum\n",
    "of the two preceding ones, starting from 0 and 1:\n",
    "\n",
    "The beginning of the sequence is this:\n",
    "0, 1, 1, 2, 3, 5, 8, 13, 21, 34, 55, 89, 144, ...\n",
    "The function fastFib(num) returns the fibonacci number Fn, of the given num\n",
    "as an argument.\n",
    "\"\"\"\n",
    "\n",
    "def fibo(n):\n",
    "    f1=0\n",
    "    f2=1\n",
    "    s=0\n",
    "    for i in range(n-1):\n",
    "        s=f1+f2\n",
    "        f1=f2\n",
    "        f2=s\n",
    "    return s"
   ]
  },
  {
   "cell_type": "code",
   "execution_count": 21,
   "id": "c1d05a72",
   "metadata": {},
   "outputs": [
    {
     "data": {
      "text/plain": [
       "0"
      ]
     },
     "execution_count": 21,
     "metadata": {},
     "output_type": "execute_result"
    }
   ],
   "source": [
    "fibo(1)"
   ]
  },
  {
   "cell_type": "code",
   "execution_count": 45,
   "id": "bb13e11f",
   "metadata": {},
   "outputs": [],
   "source": [
    "\"\"\"2. Create a function that takes a strings characters as ASCII and returns each\n",
    "characters hexadecimal value as a string.\"\"\"\n",
    "\n",
    "def tohex(a):\n",
    "    s=''\n",
    "    for i in a:\n",
    "        o=ord(i)\n",
    "        h=hex(o).lstrip('0x')\n",
    "        s=s+h+\" \"\n",
    "    return s\n",
    "        "
   ]
  },
  {
   "cell_type": "code",
   "execution_count": 47,
   "id": "8eb3b468",
   "metadata": {},
   "outputs": [
    {
     "data": {
      "text/plain": [
       "'42 69 67 20 42 6f 69 '"
      ]
     },
     "execution_count": 47,
     "metadata": {},
     "output_type": "execute_result"
    }
   ],
   "source": [
    "tohex('Big Boi')"
   ]
  },
  {
   "cell_type": "code",
   "execution_count": 50,
   "id": "07c7f906",
   "metadata": {},
   "outputs": [],
   "source": [
    "\"\"\"3. Someone has attempted to censor my strings by replacing every vowel\n",
    "with a *, l*k* th*s. Luckily, I've been able to find the vowels that were\n",
    "removed.\n",
    "Given a censored string and a string of the censored vowels, return the\n",
    "original uncensored string.\"\"\"\n",
    "\n",
    "def uncensored(a,b):\n",
    "    s=\"\"\n",
    "    count=0\n",
    "    try:\n",
    "        for i in range(len(a)):\n",
    "            if a[i]!='*':\n",
    "                s=s+a[i]\n",
    "            else:\n",
    "                s=s+b[count]\n",
    "                count=count+1\n",
    "        return s\n",
    "    except Exception as e:\n",
    "        print(e)\n",
    "            \n",
    "        "
   ]
  },
  {
   "cell_type": "code",
   "execution_count": 53,
   "id": "06692bee",
   "metadata": {},
   "outputs": [
    {
     "data": {
      "text/plain": [
       "'UPPERCASE'"
      ]
     },
     "execution_count": 53,
     "metadata": {},
     "output_type": "execute_result"
    }
   ],
   "source": [
    "\n",
    "uncensored(\"*PP*RC*S*\",\"UEAE\")\n",
    "    "
   ]
  },
  {
   "cell_type": "code",
   "execution_count": 54,
   "id": "84174d93",
   "metadata": {},
   "outputs": [
    {
     "data": {
      "text/plain": [
       "'dns.google'"
      ]
     },
     "execution_count": 54,
     "metadata": {},
     "output_type": "execute_result"
    }
   ],
   "source": [
    "\"\"\"Write a function that takes an IP address and returns the domain name\n",
    "using PTR DNS records.\"\"\"\n",
    "import socket\n",
    "  \n",
    "def domain(ip):\n",
    "    result=socket.gethostbyaddr(ip)\n",
    "    return list(result)[0]\n",
    "\n",
    "domain(\"8.8.8.8\")\n"
   ]
  },
  {
   "cell_type": "code",
   "execution_count": 34,
   "id": "83d5f526",
   "metadata": {},
   "outputs": [],
   "source": [
    "\"\"\"5. Create a function that takes an integer n and returns the factorial of\n",
    "factorials.\"\"\"\n",
    "\n",
    "def fact_of_fact(n):\n",
    "    \n",
    "    s=1\n",
    "    for i in range(0,n+1):\n",
    "        f=1\n",
    "        for j in range(1,i+1):\n",
    "            f=f*j\n",
    "        s=s*f\n",
    "    return s\n",
    "    \n",
    "        \n",
    "    "
   ]
  },
  {
   "cell_type": "code",
   "execution_count": 37,
   "id": "03008a04",
   "metadata": {},
   "outputs": [
    {
     "data": {
      "text/plain": [
       "24883200"
      ]
     },
     "execution_count": 37,
     "metadata": {},
     "output_type": "execute_result"
    }
   ],
   "source": [
    "fact_of_fact(6)"
   ]
  },
  {
   "cell_type": "code",
   "execution_count": null,
   "id": "09c76e5d",
   "metadata": {},
   "outputs": [],
   "source": []
  },
  {
   "cell_type": "code",
   "execution_count": null,
   "id": "36daf68e",
   "metadata": {},
   "outputs": [],
   "source": []
  }
 ],
 "metadata": {
  "kernelspec": {
   "display_name": "Python 3 (ipykernel)",
   "language": "python",
   "name": "python3"
  },
  "language_info": {
   "codemirror_mode": {
    "name": "ipython",
    "version": 3
   },
   "file_extension": ".py",
   "mimetype": "text/x-python",
   "name": "python",
   "nbconvert_exporter": "python",
   "pygments_lexer": "ipython3",
   "version": "3.9.7"
  }
 },
 "nbformat": 4,
 "nbformat_minor": 5
}
