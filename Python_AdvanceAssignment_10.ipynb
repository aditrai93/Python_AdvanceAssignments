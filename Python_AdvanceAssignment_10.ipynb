{
 "cells": [
  {
   "cell_type": "markdown",
   "id": "c74fe84f",
   "metadata": {},
   "source": [
    "1. Create a function that takes the width, height and character and returns a picture frame as a 2D list.\n",
    "\n",
    "Examples\n",
    "\n",
    "get_frame(4, 5, \"#\") ➞ [\n",
    "  [\"####\"],\n",
    "  [\"#  #\"],\n",
    "  [\"#  #\"],\n",
    "  [\"#  #\"],\n",
    "  [\"####\"]\n",
    "]\n",
    "\n",
    "Frame is 4 characters wide and 5 characters tall.\n",
    "\n",
    "\n",
    "get_frame(10, 3, \"*\") ➞ [\n",
    "  [\"**********\"],\n",
    "  [\"*        *\"],\n",
    "  [\"**********\"]\n",
    "]\n",
    "\n",
    "Frame is 10 characters and wide and 3 characters tall.\n",
    "\n",
    "\n",
    "get_frame(2, 5, \"0\") ➞ \"invalid\"\n",
    "\n",
    "Frame's width is not more than 2.\n"
   ]
  },
  {
   "cell_type": "code",
   "execution_count": 70,
   "id": "b49d27b9",
   "metadata": {},
   "outputs": [],
   "source": [
    "def get_frame(width,height,char):\n",
    "    frame=[]\n",
    "    if width>2:\n",
    "        for i in range(height):\n",
    "            ch=\"\"\n",
    "            block=[]\n",
    "            if i==0 or i==height-1:\n",
    "                for j in range(width):\n",
    "                    ch=ch+char\n",
    "                block.append(ch)\n",
    "            else:\n",
    "                for j in range(2):\n",
    "                    ch=ch+char\n",
    "                    if j!=1:\n",
    "                        ch=ch+\" \"\n",
    "                block.append(ch)\n",
    "            frame.append(block)\n",
    "    else:\n",
    "        frame=\"Frame width is not greater than 2\"\n",
    "        \n",
    "    return frame\n",
    "                \n",
    "                \n",
    "                    \n",
    "                    "
   ]
  },
  {
   "cell_type": "code",
   "execution_count": 76,
   "id": "be1f9183",
   "metadata": {},
   "outputs": [
    {
     "data": {
      "text/plain": [
       "[['####'], ['# #'], ['# #'], ['# #'], ['####']]"
      ]
     },
     "execution_count": 76,
     "metadata": {},
     "output_type": "execute_result"
    }
   ],
   "source": [
    "get_frame(4, 5, \"#\")"
   ]
  },
  {
   "cell_type": "markdown",
   "id": "aa21c123",
   "metadata": {},
   "source": [
    "2. Write three functions:\n",
    "\n",
    "  1. boolean_and\n",
    "  2. boolean_or\n",
    "  3. boolean_xor\n",
    "These functions should evaluate a list of True and False values, starting from the leftmost element and evaluating pairwise.\n",
    "\n",
    "Examples\n",
    "\n",
    "boolean_and([True, True, False, True]) ➞ False\n",
    "\n",
    "[True, True, False, True] => [True, False, True] => [False, True] => False\n",
    "\n",
    "boolean_or([True, True, False, False]) ➞ True\n",
    "\n",
    "[True, True, False, True] => [True, False, False] => [True, False] => True\n",
    "\n",
    "boolean_xor([True, True, False, False]) ➞ False\n",
    "\n",
    "[True, True, False, False] => [False, False, False] => [False, False] => False\n"
   ]
  },
  {
   "cell_type": "code",
   "execution_count": 51,
   "id": "61433563",
   "metadata": {},
   "outputs": [],
   "source": [
    "def boolean_and(li):\n",
    "    for i in range(len(li)):\n",
    "        if i<len(li)-1:\n",
    "            li[i+1]=li[i] and li[i+1]\n",
    "    return li[i]\n",
    "\n",
    "def boolean_or(li):\n",
    "    for i in range(len(li)):\n",
    "        if i<len(li)-1:\n",
    "            li[i+1]=li[i] or li[i+1]\n",
    "    return li[i]\n",
    "\n",
    "def boolean_xor(li):\n",
    "    for i in range(len(li)):\n",
    "        if i<len(li)-1:\n",
    "            li[i+1]=li[i] ^ li[i+1]\n",
    "    return li[i]\n",
    "        \n",
    "        "
   ]
  },
  {
   "cell_type": "code",
   "execution_count": 54,
   "id": "9e95f9f0",
   "metadata": {},
   "outputs": [
    {
     "data": {
      "text/plain": [
       "False"
      ]
     },
     "execution_count": 54,
     "metadata": {},
     "output_type": "execute_result"
    }
   ],
   "source": [
    "boolean_xor([True, True, False, False])"
   ]
  },
  {
   "cell_type": "markdown",
   "id": "83ec0cc2",
   "metadata": {},
   "source": [
    "3. Create a function that creates a box based on dimension n.\n",
    "\n",
    "Examples\n",
    "\n",
    "make_box(5) ➞ [\n",
    "  \"#####\",\n",
    "  \"#   #\",\n",
    "  \"#   #\",\n",
    "  \"#   #\",\n",
    "  \"#####\"\n",
    "]\n",
    "\n",
    "make_box(3) ➞ [\n",
    "  \"###\",\n",
    "  \"# #\",\n",
    "  \"###\"\n",
    "]\n",
    "\n",
    "make_box(2) ➞ [\n",
    "  \"##\",\n",
    "  \"##\"\n",
    "]\n",
    "\n",
    "make_box(1) ➞ [\n",
    "  \"#\"\n",
    "]\n"
   ]
  },
  {
   "cell_type": "code",
   "execution_count": 65,
   "id": "0452fead",
   "metadata": {},
   "outputs": [],
   "source": [
    "def make_box(n):\n",
    "    block=[]\n",
    "    for i in range(n):\n",
    "            ch=\"\"\n",
    "            if i==0 or i==n-1:\n",
    "                for j in range(n):\n",
    "                    ch=ch+\"#\"\n",
    "                block.append(ch)\n",
    "            else:\n",
    "                for j in range(2):\n",
    "                    ch=ch+\"#\"\n",
    "                    if j!=1:\n",
    "                        ch=ch+\" \"\n",
    "                        \n",
    "                block.append(ch)\n",
    "    return block \n",
    "    "
   ]
  },
  {
   "cell_type": "code",
   "execution_count": 69,
   "id": "e4e53391",
   "metadata": {},
   "outputs": [
    {
     "data": {
      "text/plain": [
       "['#####', '# #', '# #', '# #', '#####']"
      ]
     },
     "execution_count": 69,
     "metadata": {},
     "output_type": "execute_result"
    }
   ],
   "source": [
    "make_box(5)"
   ]
  },
  {
   "cell_type": "markdown",
   "id": "cf957ac9",
   "metadata": {},
   "source": [
    "4. Given a common phrase, return False if any individual word in the phrase contains duplicate letters. Return True otherwise.\n",
    "\n",
    "Examples\n",
    "\n",
    "no_duplicate_letters(\"Fortune favours the bold.\") ➞ True\n",
    "\n",
    "no_duplicate_letters(\"You can lead a horse to water, but you can't make him drink.\") ➞ True\n",
    "\n",
    "no_duplicate_letters(\"Look before you leap.\") ➞ False\n",
    "\n",
    "Duplicate letters in \"Look\" and \"before\".\n",
    "\n",
    "no_duplicate_letters(\"An apple a day keeps the doctor away.\") ➞ False\n",
    "\n",
    "Duplicate letters in \"apple\", \"keeps\", \"doctor\", and \"away\".\n"
   ]
  },
  {
   "cell_type": "code",
   "execution_count": 80,
   "id": "405014e9",
   "metadata": {},
   "outputs": [],
   "source": [
    "def no_duplicate_letters(phrase):\n",
    "    counter=True\n",
    "    for i in phrase.split(\" \"):\n",
    "        li=[]\n",
    "        for j in i:\n",
    "            if j not in li:\n",
    "                li.append(j)\n",
    "            else:\n",
    "                counter=False\n",
    "                break\n",
    "    return counter"
   ]
  },
  {
   "cell_type": "code",
   "execution_count": 84,
   "id": "a61c8f30",
   "metadata": {},
   "outputs": [
    {
     "data": {
      "text/plain": [
       "True"
      ]
     },
     "execution_count": 84,
     "metadata": {},
     "output_type": "execute_result"
    }
   ],
   "source": [
    "no_duplicate_letters(\"You can lead a horse to water, but you can't make him drink.\")"
   ]
  },
  {
   "cell_type": "markdown",
   "id": "d8d35871",
   "metadata": {},
   "source": [
    "5. Write a regular expression that will match the states that voted yes to President Trump's impeachment. You must use RegEx positive lookahead.\n",
    "\n",
    "Example\n",
    "\n",
    "txt = \"Texas = no, California = yes, Florida = yes, Michigan = no\"\n",
    "pattern = \"yourregularexpressionhere\"\n",
    "\n",
    "re.findall(pattern, txt) ➞ [\"California\", \"Florida\"]\n"
   ]
  },
  {
   "cell_type": "code",
   "execution_count": 49,
   "id": "34620c7d",
   "metadata": {},
   "outputs": [],
   "source": [
    "import re\n",
    "#(?=l)(?=i)(?=f)(?=o)(?=r)(?=n)(?=i)(?=a)\n",
    "pattern ='California(?=[\\s,a-z])|Florida(?=[\\s,a-z])'"
   ]
  },
  {
   "cell_type": "code",
   "execution_count": 50,
   "id": "94e081d2",
   "metadata": {},
   "outputs": [],
   "source": [
    "x=re.findall(pattern, \"California and Florida best\")"
   ]
  },
  {
   "cell_type": "code",
   "execution_count": 51,
   "id": "d0a71579",
   "metadata": {},
   "outputs": [
    {
     "data": {
      "text/plain": [
       "[]"
      ]
     },
     "execution_count": 51,
     "metadata": {},
     "output_type": "execute_result"
    }
   ],
   "source": [
    "x"
   ]
  },
  {
   "cell_type": "code",
   "execution_count": null,
   "id": "0677f9aa",
   "metadata": {},
   "outputs": [],
   "source": []
  },
  {
   "cell_type": "code",
   "execution_count": null,
   "id": "18264298",
   "metadata": {},
   "outputs": [],
   "source": []
  }
 ],
 "metadata": {
  "kernelspec": {
   "display_name": "Python 3 (ipykernel)",
   "language": "python",
   "name": "python3"
  },
  "language_info": {
   "codemirror_mode": {
    "name": "ipython",
    "version": 3
   },
   "file_extension": ".py",
   "mimetype": "text/x-python",
   "name": "python",
   "nbconvert_exporter": "python",
   "pygments_lexer": "ipython3",
   "version": "3.9.7"
  }
 },
 "nbformat": 4,
 "nbformat_minor": 5
}
