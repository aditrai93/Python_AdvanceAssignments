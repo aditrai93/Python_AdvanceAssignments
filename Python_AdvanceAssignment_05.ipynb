{
 "cells": [
  {
   "cell_type": "code",
   "execution_count": 22,
   "id": "e06b00be",
   "metadata": {},
   "outputs": [],
   "source": [
    "\"\"\"1. Create a function that takes a number n (integer greater than zero) as an\n",
    "argument, and returns 2 if n is odd and 8 if n is even.\n",
    "You can only use the following arithmetic operators: addition of numbers +,\n",
    "subtraction of numbers -, multiplication of number *, division of number /, and\n",
    "exponentiation **.\n",
    "You are not allowed to use any other methods in this challenge (i.e. no if\n",
    "statements, comparison operators, etc).\"\"\"\n",
    "\n",
    "def typ(n):\n",
    "    a=n%2\n",
    "    ans={1:2,0:8}\n",
    "        \n",
    "    return ans[a]"
   ]
  },
  {
   "cell_type": "code",
   "execution_count": 26,
   "id": "fd494516",
   "metadata": {},
   "outputs": [
    {
     "data": {
      "text/plain": [
       "2"
      ]
     },
     "execution_count": 26,
     "metadata": {},
     "output_type": "execute_result"
    }
   ],
   "source": [
    "typ(3)"
   ]
  },
  {
   "cell_type": "code",
   "execution_count": 41,
   "id": "1d8f4a04",
   "metadata": {},
   "outputs": [],
   "source": [
    "\"\"\"2. Create a function that returns the majority vote in a list. A majority vote is\n",
    "an element that occurs > N/2 times in a list (where N is the length of the list).\"\"\"\n",
    "\n",
    "def majority(l):\n",
    "    cond=len(l)/2\n",
    "    res='None'\n",
    "    for i in l:\n",
    "        if l.count(i)>cond:\n",
    "            res=i\n",
    "    return res\n",
    "        \n",
    "        \n",
    "    "
   ]
  },
  {
   "cell_type": "code",
   "execution_count": 44,
   "id": "e3b70223",
   "metadata": {},
   "outputs": [
    {
     "data": {
      "text/plain": [
       "'None'"
      ]
     },
     "execution_count": 44,
     "metadata": {},
     "output_type": "execute_result"
    }
   ],
   "source": [
    "majority(['A','B','B','A','C','C'])"
   ]
  },
  {
   "cell_type": "code",
   "execution_count": 88,
   "id": "98277ba4",
   "metadata": {},
   "outputs": [],
   "source": [
    "\"\"\"3. Create a function that takes a string txt and censors any word from a given\n",
    "list lst. The text removed must be replaced by the given character char.\"\"\"\n",
    "\n",
    "def censored_string(string,li,char):\n",
    "    new_string=''\n",
    "    for i in string.split():\n",
    "        s=''\n",
    "        if i in li:\n",
    "            for j in range(len(i)):\n",
    "                s=s+char\n",
    "            new_string+=s+\" \"\n",
    "        else:\n",
    "            new_string+=i+\" \"\n",
    "        \n",
    "    return new_string    "
   ]
  },
  {
   "cell_type": "code",
   "execution_count": 91,
   "id": "aaad8f19",
   "metadata": {},
   "outputs": [
    {
     "data": {
      "text/plain": [
       "'The --- jumped ---- the moon. '"
      ]
     },
     "execution_count": 91,
     "metadata": {},
     "output_type": "execute_result"
    }
   ],
   "source": [
    "censored_string('The cow jumped over the moon.',['cow','over'],'-')"
   ]
  },
  {
   "cell_type": "code",
   "execution_count": 113,
   "id": "4a5e58ed",
   "metadata": {},
   "outputs": [],
   "source": [
    "\"\"\"4. In mathematics a Polydivisible Number (or magic number) is a number in a\n",
    "given number base with digits abcde... that has the following properties:\n",
    "- Its first digit a is not 0.\n",
    "- The number formed by its first two digits ab is a multiple of 2.\n",
    "- The number formed by its first three digits abc is a multiple of 3.\n",
    "- The number formed by its first four digits abcd is a multiple of 4.\n",
    "Create a function which takes an integer n and returns True if the given\n",
    "number is a Polydivisible Number and False otherwise.\n",
    "\"\"\"\n",
    "\n",
    "def is_polydivisible(n):\n",
    "    l=len(str(n))-1\n",
    "    res=True\n",
    "    for i in range(0,l):\n",
    "        d=10**l\n",
    "        n1=n//d\n",
    "        if n1%(i+1)==0:\n",
    "            l=l-1\n",
    "        else:\n",
    "            res=False\n",
    "    return res"
   ]
  },
  {
   "cell_type": "code",
   "execution_count": 115,
   "id": "bd7b1d84",
   "metadata": {},
   "outputs": [
    {
     "data": {
      "text/plain": [
       "False"
      ]
     },
     "execution_count": 115,
     "metadata": {},
     "output_type": "execute_result"
    }
   ],
   "source": [
    "is_polydivisible(123220)"
   ]
  },
  {
   "cell_type": "code",
   "execution_count": 193,
   "id": "a99b1e18",
   "metadata": {},
   "outputs": [],
   "source": [
    "\"\"\"5. Create a function that takes a list of numbers and returns the sum of all\n",
    "prime numbers in the list.\"\"\"\n",
    "\n",
    "def sumprime(l):\n",
    "    s=0\n",
    "    global prime\n",
    "    prime=False\n",
    "    for i in l:\n",
    "        print(i)\n",
    "        prime=True\n",
    "        for j in range(2,10):\n",
    "            if i%j==0 and i!=j or i==1:\n",
    "                prime=False\n",
    "                \n",
    "        if prime==True:\n",
    "            s+=i\n",
    "            \n",
    "    return s\n",
    "        "
   ]
  },
  {
   "cell_type": "code",
   "execution_count": 196,
   "id": "06f1f9d8",
   "metadata": {},
   "outputs": [
    {
     "data": {
      "text/plain": [
       "0"
      ]
     },
     "execution_count": 196,
     "metadata": {},
     "output_type": "execute_result"
    }
   ],
   "source": [
    "sumprime([])"
   ]
  },
  {
   "cell_type": "code",
   "execution_count": null,
   "id": "2abaf7c4",
   "metadata": {},
   "outputs": [],
   "source": []
  },
  {
   "cell_type": "code",
   "execution_count": null,
   "id": "628c5b0b",
   "metadata": {},
   "outputs": [],
   "source": []
  }
 ],
 "metadata": {
  "kernelspec": {
   "display_name": "Python 3 (ipykernel)",
   "language": "python",
   "name": "python3"
  },
  "language_info": {
   "codemirror_mode": {
    "name": "ipython",
    "version": 3
   },
   "file_extension": ".py",
   "mimetype": "text/x-python",
   "name": "python",
   "nbconvert_exporter": "python",
   "pygments_lexer": "ipython3",
   "version": "3.9.7"
  }
 },
 "nbformat": 4,
 "nbformat_minor": 5
}
