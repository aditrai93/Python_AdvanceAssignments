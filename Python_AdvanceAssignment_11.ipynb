{
 "cells": [
  {
   "cell_type": "markdown",
   "id": "f3990e61",
   "metadata": {},
   "source": [
    "1. Create a function that takes a list and returns a new list containing only prime numbers.\n",
    "\n",
    "Examples\n",
    "\n",
    "filter_primes([7, 9, 3, 9, 10, 11, 27]) ➞ [7, 3, 11]\n",
    "\n",
    "filter_primes([10007, 1009, 1007, 27, 147, 77, 1001, 70]) ➞ [10007, 1009]\n",
    "\n",
    "filter_primes([1009, 10, 10, 10, 3, 33, 9, 4, 1, 61, 63, 69, 1087, 1091, 1093, 1097]) ➞ [1009, 3, 61, 1087, 1091, 1093, 1097]\n"
   ]
  },
  {
   "cell_type": "code",
   "execution_count": 20,
   "id": "cce39de4",
   "metadata": {},
   "outputs": [],
   "source": [
    "def prime(n):\n",
    "    counter = True\n",
    "    i=2\n",
    "    if n==1:\n",
    "        counter=False\n",
    "    if n>2:\n",
    "        while i<n:\n",
    "            if n%i==0:\n",
    "                counter=False\n",
    "                break\n",
    "            else:\n",
    "                i=i+1\n",
    "    return counter\n",
    "\n",
    "def filter_prime(li):\n",
    "    new_li=[]\n",
    "    for i in li:\n",
    "        if prime(i)==True:\n",
    "            new_li.append(i)\n",
    "    return new_li\n",
    "        "
   ]
  },
  {
   "cell_type": "code",
   "execution_count": 21,
   "id": "8913b566",
   "metadata": {},
   "outputs": [
    {
     "data": {
      "text/plain": [
       "[1009, 3, 61, 1087, 1091, 1093, 1097]"
      ]
     },
     "execution_count": 21,
     "metadata": {},
     "output_type": "execute_result"
    }
   ],
   "source": [
    "filter_prime([1009, 10, 10, 10, 3, 33, 9, 4, 1, 61, 63, 69, 1087, 1091, 1093, 1097])"
   ]
  },
  {
   "cell_type": "markdown",
   "id": "9c5ceb53",
   "metadata": {},
   "source": [
    "2. Once a water balloon pops, is soaks the area around it. The ground gets drier the further away you travel from the balloon.\n",
    "\n",
    "The effect of a water balloon popping can be modeled using a list. Create a function that takes a list which takes the pre-pop state and returns the state after the balloon is popped. The pre-pop state will contain at most a single balloon, whose size is represented by the only non-zero element.\n",
    "\n",
    "Examples\n",
    "\n",
    "pop([0, 0, 0, 0, 4, 0, 0, 0, 0]) ➞ [0, 1, 2, 3, 4, 3, 2, 1, 0]\n",
    "\n",
    "pop([0, 0, 0, 3, 0, 0, 0]) ➞ [0, 1, 2, 3, 2, 1, 0]\n",
    "\n",
    "pop([0, 0, 2, 0, 0]) ➞ [0, 1, 2, 1, 0]\n",
    "\n",
    "pop([0]) ➞ [0]\n"
   ]
  },
  {
   "cell_type": "code",
   "execution_count": 44,
   "id": "a076c4a7",
   "metadata": {},
   "outputs": [],
   "source": [
    "def pop(li):\n",
    "    n=0\n",
    "    li2=[]\n",
    "    for i in range(len(li)):\n",
    "        if i<=(len(li)//2):\n",
    "            li2.append(i)\n",
    "            n=n+1\n",
    "        else:\n",
    "            n=n-1\n",
    "            li2.append(n-1)\n",
    "            \n",
    "    return li2\n",
    "            "
   ]
  },
  {
   "cell_type": "code",
   "execution_count": 48,
   "id": "ebe4774c",
   "metadata": {},
   "outputs": [
    {
     "data": {
      "text/plain": [
       "[0]"
      ]
     },
     "execution_count": 48,
     "metadata": {},
     "output_type": "execute_result"
    }
   ],
   "source": [
    "pop([0])"
   ]
  },
  {
   "cell_type": "markdown",
   "id": "530a9796",
   "metadata": {},
   "source": [
    "3. \"Loves me, loves me not\" is a traditional game in which a person plucks off all the petals of a flower one by one, saying the phrase \"Loves me\" and \"Loves me not\" when determining whether the one that they love, loves them back.\n",
    "\n",
    "Given a number of petals, return a string which repeats the phrases \"Loves me\" and \"Loves me not\" for every alternating petal, and return the last phrase in all caps. Remember to put a comma and space between phrases.\n",
    "\n",
    "Examples\n",
    "\n",
    "loves_me(3) ➞ \"Loves me, Loves me not, LOVES ME\"\n",
    "\n",
    "loves_me(6) ➞ \"Loves me, Loves me not, Loves me, Loves me not, Loves me, LOVES ME NOT\"\n",
    "\n",
    "loves_me(1) ➞ \"LOVES ME\"\n",
    "\n"
   ]
  },
  {
   "cell_type": "code",
   "execution_count": 78,
   "id": "93408f20",
   "metadata": {},
   "outputs": [],
   "source": [
    "def loves_me(n):\n",
    "    st=\"\"\n",
    "    new=\"\"\n",
    "    for i in range(n):\n",
    "        if i%2==0 and i<n-1:\n",
    "            st=st+'Loves me, '\n",
    "        elif i%2!=0 and i<n-1:\n",
    "            st=st+'Loves me not, '\n",
    "        elif i%2==0:\n",
    "            st=st+'LOVES ME'\n",
    "        else:\n",
    "            st=st+'LOVES ME NOT'\n",
    "    return st\n",
    "            \n",
    "            \n",
    "    "
   ]
  },
  {
   "cell_type": "code",
   "execution_count": 82,
   "id": "68ee4331",
   "metadata": {},
   "outputs": [
    {
     "data": {
      "text/plain": [
       "''"
      ]
     },
     "execution_count": 82,
     "metadata": {},
     "output_type": "execute_result"
    }
   ],
   "source": [
    "loves_me(0)"
   ]
  },
  {
   "cell_type": "markdown",
   "id": "6289f8ee",
   "metadata": {},
   "source": [
    "4. Write a function that sorts each string in a list by the letter in alphabetic ascending order (a-z).\n",
    "\n",
    "Examples\n",
    "\n",
    "sort_by_letter([\"932c\", \"832u32\", \"2344b\"])\n",
    "➞ [\"2344b\", \"932c\", \"832u32\"]\n",
    "\n",
    "sort_by_letter([\"99a\", \"78b\", \"c2345\", \"11d\"])\n",
    "➞ [\"99a\", \"78b\", \"c2345\", \"11d\"]\n",
    "\n",
    "sort_by_letter([\"572z\", \"5y5\", \"304q2\"])\n",
    "➞ [\"304q2\", \"5y5\", \"572z\"]\n",
    "\n",
    "sort_by_letter([])\n",
    "➞ []\n"
   ]
  },
  {
   "cell_type": "code",
   "execution_count": 35,
   "id": "ca745756",
   "metadata": {},
   "outputs": [],
   "source": [
    "def sort_by_letter(li):\n",
    "    li2=[]\n",
    "    for i in li:\n",
    "        if i.isalnum():\n",
    "            for j in i:\n",
    "                if j.isalpha():\n",
    "                    li2.append(j)\n",
    "    li2.sort()               \n",
    "    li3=[]\n",
    "    for i in li2:\n",
    "        for j in li:\n",
    "            for k in j:\n",
    "                if i==k:\n",
    "                    if j not in li3:\n",
    "                        li3.append(j)\n",
    "    return li3\n",
    "    "
   ]
  },
  {
   "cell_type": "code",
   "execution_count": 38,
   "id": "817fab1e",
   "metadata": {},
   "outputs": [
    {
     "data": {
      "text/plain": [
       "[]"
      ]
     },
     "execution_count": 38,
     "metadata": {},
     "output_type": "execute_result"
    }
   ],
   "source": [
    "sort_by_letter([])"
   ]
  },
  {
   "cell_type": "markdown",
   "id": "2eb2361e",
   "metadata": {},
   "source": [
    "5. There are three cups on a table, at positions A, B, and C. At the start, there is a ball hidden under the cup at position B.\n",
    "\n",
    "\n",
    "\n",
    "\n",
    "\n",
    "\n",
    "However, I perform several swaps on the cups, which is notated as two letters. For example, if I swap the cups at positions A and B, I could notate this as AB or BA.\n",
    "\n",
    "Create a function that returns the letter position that the ball is at, once I finish swapping the cups. The swaps will be given to you as a list.\n",
    "\n",
    "Example\n",
    "\n",
    "cup_swapping([\"AB\", \"CA\", \"AB\"]) ➞ \"C\"\n",
    "\n",
    "Ball begins at position B.\n",
    "\n",
    "Cups A and B swap, so the ball is at position A.\n",
    "\n",
    "Cups C and A swap, so the ball is at position C.\n",
    "\n",
    "Cups A and B swap, but the ball is at position C, so it doesn't move.\n"
   ]
  },
  {
   "cell_type": "code",
   "execution_count": 21,
   "id": "b7cf79f4",
   "metadata": {},
   "outputs": [],
   "source": [
    "def cup_swapping(li):\n",
    "    ball='B'\n",
    "    for i in li:\n",
    "        for j in range(len(i)):\n",
    "            if i[j]==ball:\n",
    "                if j==0:\n",
    "                    ball=i[1]\n",
    "                else:\n",
    "                    ball=i[0]\n",
    "                break\n",
    "            \n",
    "    return ball\n",
    "                "
   ]
  },
  {
   "cell_type": "code",
   "execution_count": 23,
   "id": "12779a61",
   "metadata": {},
   "outputs": [
    {
     "data": {
      "text/plain": [
       "'B'"
      ]
     },
     "execution_count": 23,
     "metadata": {},
     "output_type": "execute_result"
    }
   ],
   "source": [
    "cup_swapping([\"CB\",\"BA\",\"AC\",\"AB\"])"
   ]
  },
  {
   "cell_type": "code",
   "execution_count": null,
   "id": "edd93020",
   "metadata": {},
   "outputs": [],
   "source": []
  },
  {
   "cell_type": "code",
   "execution_count": null,
   "id": "63c4534e",
   "metadata": {},
   "outputs": [],
   "source": []
  }
 ],
 "metadata": {
  "kernelspec": {
   "display_name": "Python 3 (ipykernel)",
   "language": "python",
   "name": "python3"
  },
  "language_info": {
   "codemirror_mode": {
    "name": "ipython",
    "version": 3
   },
   "file_extension": ".py",
   "mimetype": "text/x-python",
   "name": "python",
   "nbconvert_exporter": "python",
   "pygments_lexer": "ipython3",
   "version": "3.9.7"
  }
 },
 "nbformat": 4,
 "nbformat_minor": 5
}
