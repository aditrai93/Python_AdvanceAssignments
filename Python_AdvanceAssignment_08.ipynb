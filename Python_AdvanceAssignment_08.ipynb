{
 "cells": [
  {
   "cell_type": "markdown",
   "id": "2900face",
   "metadata": {},
   "source": [
    "1. Given a sentence as txt, return True if any two adjacent words have this property: One word ends with a vowel, while the word immediately after begins with a vowel (a e i o u).\n",
    "\n",
    "Examples\n",
    "\n",
    "vowel_links(\"a very large appliance\") ➞ True\n",
    "\n",
    "vowel_links(\"go to edabit\") ➞ True\n",
    "\n",
    "vowel_links(\"an open fire\") ➞ False\n",
    "\n",
    "vowel_links(\"a sudden applause\") ➞ False\n"
   ]
  },
  {
   "cell_type": "code",
   "execution_count": 29,
   "id": "81c86930",
   "metadata": {},
   "outputs": [],
   "source": [
    "def vowel_links(text):\n",
    "    vowels=['a','e','i','o','u']\n",
    "    string=text.split()\n",
    "    global vow\n",
    "    vow=False\n",
    "    for i in range(len(string)):\n",
    "        if i+1!=len(string):\n",
    "            l1=list(string[i])\n",
    "            l2=list(string[i+1])\n",
    "            if l1[len(l1)-1] in vowels and l2[0] in vowels:\n",
    "                vow=True\n",
    "                break\n",
    "    return vow\n",
    "    \n",
    "    "
   ]
  },
  {
   "cell_type": "code",
   "execution_count": 32,
   "id": "8a6b71c1",
   "metadata": {},
   "outputs": [
    {
     "data": {
      "text/plain": [
       "False"
      ]
     },
     "execution_count": 32,
     "metadata": {},
     "output_type": "execute_result"
    }
   ],
   "source": [
    "vowel_links(\"a sudden applause\")"
   ]
  },
  {
   "cell_type": "markdown",
   "id": "8ef269d5",
   "metadata": {},
   "source": [
    " 2. You are given three inputs: a string, one letter, and a second letter.\n",
    "\n",
    "Write a function that returns True if every instance of the first letter occurs before every instance of the second letter.\n",
    "\n",
    "Examples\n",
    "\n",
    "first_before_second(\"a rabbit jumps joyfully\", \"a\", \"j\") ➞ True\n",
    "\n",
    "Every instance of \"a\" occurs before every instance of \"j\".\n",
    "\n",
    "first_before_second(\"knaves knew about waterfalls\", \"k\", \"w\") ➞  True\n",
    "\n",
    "first_before_second(\"happy birthday\", \"a\", \"y\") ➞ False\n",
    "\n",
    "The \"a\" in \"birthday\" occurs after the \"y\" in \"happy\".\n",
    "\n",
    "first_before_second(\"precarious kangaroos\", \"k\", \"a\") ➞ False\n"
   ]
  },
  {
   "cell_type": "code",
   "execution_count": 51,
   "id": "76387171",
   "metadata": {},
   "outputs": [],
   "source": [
    "def first_before_second(text,let1,let2):\n",
    "    string=text.split()\n",
    "    global inst,ind1,ind2\n",
    "    inst=True\n",
    "    ind1=0\n",
    "    ind2=0\n",
    "    for i in range(len(string)):\n",
    "        if let2 in list(string[i]):\n",
    "            ind2=i\n",
    "            break\n",
    "            \n",
    "    for i in range(len(string)):\n",
    "        if let1 in list(string[i]):\n",
    "            ind1=i\n",
    "        if ind1>ind2:\n",
    "            inst=False\n",
    "    return inst\n",
    "        \n",
    "    "
   ]
  },
  {
   "cell_type": "code",
   "execution_count": 56,
   "id": "7905abba",
   "metadata": {},
   "outputs": [
    {
     "data": {
      "text/plain": [
       "False"
      ]
     },
     "execution_count": 56,
     "metadata": {},
     "output_type": "execute_result"
    }
   ],
   "source": [
    "first_before_second(\"happy birthday\", \"a\", \"y\")"
   ]
  },
  {
   "cell_type": "markdown",
   "id": "7a581f24",
   "metadata": {},
   "source": [
    "3. Create a function that returns the characters from a list or string r on odd or even positions, depending on the specifier s. The specifier will be \"odd\" for items on odd positions (1, 3, 5, ...) and \"even\" for items on even positions (2, 4, 6, ...).\n",
    "\n",
    "Examples\n",
    "\n",
    "char_at_pos([2, 4, 6, 8, 10], \"even\") ➞ [4, 8]\n",
    "\n",
    "4 & 8 occupy the 2nd & 4th positions\n",
    "\n",
    "char_at_pos(\"EDABIT\", \"odd\") ➞ \"EAI\"\n",
    "\n",
    "\"E\", \"A\" and \"I\" occupy the 1st, 3rd and 5th positions\n",
    "\n",
    "char_at_pos([\"A\", \"R\", \"B\", \"I\", \"T\", \"R\", \"A\", \"R\", \"I\", \"L\", \"Y\"], \"odd\") ➞ [\"A\", \"B\", \"T\", \"A\", \"I\", \"Y\"]\n"
   ]
  },
  {
   "cell_type": "code",
   "execution_count": 71,
   "id": "be1e472e",
   "metadata": {},
   "outputs": [],
   "source": [
    "def char_at_pose(str_or_li,odd_or_even):\n",
    "    if odd_or_even==\"odd\":\n",
    "        l=[str_or_li[i] for i in range(0,len(str_or_li),2)]\n",
    "    elif odd_or_even==\"even\":\n",
    "        l=[str_or_li[i] for i in range(1,len(str_or_li),2)]\n",
    "    if type(str_or_li)==str:\n",
    "        print(\"\".join(l))\n",
    "    else:\n",
    "        print(l)\n",
    "            \n",
    "        "
   ]
  },
  {
   "cell_type": "code",
   "execution_count": 74,
   "id": "baf121f9",
   "metadata": {},
   "outputs": [
    {
     "name": "stdout",
     "output_type": "stream",
     "text": [
      "['A', 'B', 'T', 'A', 'I', 'Y']\n"
     ]
    }
   ],
   "source": [
    "char_at_pose([\"A\", \"R\", \"B\", \"I\", \"T\", \"R\", \"A\", \"R\", \"I\", \"L\", \"Y\"], \"odd\")"
   ]
  },
  {
   "cell_type": "markdown",
   "id": "faf145a3",
   "metadata": {},
   "source": [
    "4. Write a function that returns the greatest common divisor of all list elements. If the greatest common divisor is 1, return 1.\n",
    "\n",
    "Examples\n",
    "\n",
    "GCD([10, 20, 40]) ➞ 10\n",
    "\n",
    "GCD([1, 2, 3, 100]) ➞ 1\n",
    "\n",
    "GCD([1024, 192, 2048, 512]) ➞ 64\n"
   ]
  },
  {
   "cell_type": "code",
   "execution_count": 54,
   "id": "3a405f9c",
   "metadata": {},
   "outputs": [],
   "source": [
    "def GCD(li):\n",
    "    gcd=[]\n",
    "    common=[]\n",
    "    for num in li:\n",
    "        factor=[]\n",
    "        if num==1:\n",
    "            factor.append(num)\n",
    "            gcd.append(factor)\n",
    "        else:\n",
    "            for divisor in range(1,num):\n",
    "                if num%divisor==0:\n",
    "                    quotient=num//divisor\n",
    "                    if divisor not in factor:\n",
    "                        factor.append(divisor)\n",
    "                    if quotient not in factor:\n",
    "                        factor.append(quotient)\n",
    "            gcd.append(factor)\n",
    "    for fact in gcd[0]:\n",
    "        counter=1\n",
    "        for i in range(len(gcd)-1):\n",
    "            if i<len(gcd):\n",
    "                if fact in gcd[i+1] and fact not in common:\n",
    "                    counter=counter+1\n",
    "        if counter==len(gcd):\n",
    "            common.append(fact)\n",
    "                    \n",
    "    return max(common)\n",
    "\n",
    "                "
   ]
  },
  {
   "cell_type": "code",
   "execution_count": 57,
   "id": "76eac887",
   "metadata": {},
   "outputs": [
    {
     "data": {
      "text/plain": [
       "64"
      ]
     },
     "execution_count": 57,
     "metadata": {},
     "output_type": "execute_result"
    }
   ],
   "source": [
    "GCD([1024, 192, 2048, 512])"
   ]
  },
  {
   "cell_type": "markdown",
   "id": "17b3410e",
   "metadata": {},
   "source": [
    "5. A number/string is a palindrome if the digits/characters are the same when read both forward and backward. Examples include \"racecar\" and 12321. Given a positive number n, check if n or the binary representation of n is palindromic. Return the following:\n",
    "\n",
    "- \"Decimal only.\" if only n is a palindrome.\n",
    "- \"Binary only.\" if only the binary representation of n is a palindrome.\n",
    "- \"Decimal and binary.\" if both are palindromes.\n",
    "- \"Neither!\" if neither are palindromes.\n",
    "\n",
    "Examples\n",
    "\n",
    "palindrome_type(1306031) ➞ \"Decimal only.\"\n",
    "\n",
    "decimal = 1306031\n",
    "binary  = \"100111110110110101111\"\n",
    "\n",
    "palindrome_type(427787) ➞ \"Binary only.\"\n",
    "\n",
    "decimal = 427787\n",
    "binary  = \"1101000011100001011\"\n",
    "\n",
    "palindrome_type(313) ➞ \"Decimal and binary.\"\n",
    "\n",
    "decimal = 313\n",
    "binary  = 100111001\n",
    "\n",
    "palindrome_type(934) ➞ \"Neither!\"\n",
    "\n",
    "decimal = 934\n",
    "binary  = \"1110100110\"\n"
   ]
  },
  {
   "cell_type": "code",
   "execution_count": 81,
   "id": "7ea0d768",
   "metadata": {},
   "outputs": [],
   "source": [
    "def palindrome_type(n):\n",
    "    st=bin(n)\n",
    "    binary=int(st[2:])\n",
    "    num=str(n)\n",
    "    bin_type=\"\"\n",
    "    b=str(binary)\n",
    "    if int(num[-1::-1])==n and int(b[-1::-1])==binary:\n",
    "        bin_type=\"Decimal and Binary\"\n",
    "    elif int(num[-1::-1])==n:\n",
    "        bin_type=\"Decimal Only\"\n",
    "    elif int(b[-1::-1])==binary:\n",
    "        bin_type=\"Binary Only\"\n",
    "    else:\n",
    "        bin_type=\"Neither\"\n",
    "    return bin_type\n",
    "        "
   ]
  },
  {
   "cell_type": "code",
   "execution_count": 83,
   "id": "e8e8e576",
   "metadata": {},
   "outputs": [
    {
     "data": {
      "text/plain": [
       "'Binary Only'"
      ]
     },
     "execution_count": 83,
     "metadata": {},
     "output_type": "execute_result"
    }
   ],
   "source": [
    "palindrome_type(427787)"
   ]
  },
  {
   "cell_type": "code",
   "execution_count": null,
   "id": "679b8ef5",
   "metadata": {},
   "outputs": [],
   "source": []
  },
  {
   "cell_type": "code",
   "execution_count": null,
   "id": "5673b400",
   "metadata": {},
   "outputs": [],
   "source": []
  },
  {
   "cell_type": "code",
   "execution_count": null,
   "id": "606d6e1c",
   "metadata": {},
   "outputs": [],
   "source": []
  }
 ],
 "metadata": {
  "kernelspec": {
   "display_name": "Python 3 (ipykernel)",
   "language": "python",
   "name": "python3"
  },
  "language_info": {
   "codemirror_mode": {
    "name": "ipython",
    "version": 3
   },
   "file_extension": ".py",
   "mimetype": "text/x-python",
   "name": "python",
   "nbconvert_exporter": "python",
   "pygments_lexer": "ipython3",
   "version": "3.9.7"
  }
 },
 "nbformat": 4,
 "nbformat_minor": 5
}
