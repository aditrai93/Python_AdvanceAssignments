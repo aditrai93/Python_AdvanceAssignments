{
 "cells": [
  {
   "cell_type": "markdown",
   "id": "ba0cc379",
   "metadata": {},
   "source": [
    "1. A robot has been given a list of movement instructions. Each instruction is either left, right, up or down, followed by a distance to move. The robot starts at [0, 0]. You want to calculate where the robot will end up and return its final position as a list.\n",
    "\n",
    "To illustrate, if the robot is given the following instructions:\n",
    "\n",
    "[\"right 10\", \"up 50\", \"left 30\", \"down 10\"]\n",
    "\n",
    "It will end up 20 left and 40 up from where it started, so we return [-20, 40].\n",
    "\n",
    "Examples\n",
    "\n",
    "track_robot([\"right 10\", \"up 50\", \"left 30\", \"down 10\"]) ➞ [-20, 40]\n",
    "\n",
    "track_robot([]) ➞ [0, 0]\n",
    "// If there are no instructions, the robot doesn't move.\n",
    "\n",
    "track_robot([\"right 100\", \"right 100\", \"up 500\", \"up 10000\"]) ➞ [200, 10500]\n"
   ]
  },
  {
   "cell_type": "code",
   "execution_count": 1,
   "id": "a9b24410",
   "metadata": {},
   "outputs": [],
   "source": [
    "def track_robot(li):\n",
    "    final_pos=[]\n",
    "    elem=[]\n",
    "    if len(li)!=0:\n",
    "        for i in li:\n",
    "            for j in i.split(\" \"):\n",
    "                elem.append(j)\n",
    "        for i in range(len(elem)):\n",
    "            if elem[i] == \"right\" and len(final_pos)==0 or elem[i]==\"left\" and len(final_pos)==0:\n",
    "                final_pos.append(int(elem[i+1])) \n",
    "            elif elem[i]==\"right\":\n",
    "                final_pos[0]=final_pos[0]+int(elem[i+1])\n",
    "            elif elem[i]==\"left\":\n",
    "                final_pos[0]=final_pos[0]-int(elem[i+1])\n",
    "            if elem[i]=='up' and len(final_pos)==1 or elem[i]==\"down\" and len(final_pos)==1:\n",
    "                final_pos.append(int(elem[i+1]))\n",
    "            elif elem[i]=='up':\n",
    "                final_pos[1]=final_pos[1]+int(elem[i+1])\n",
    "            elif elem[i]==\"down\":\n",
    "                final_pos[1]=final_pos[1]-int(elem[i+1])\n",
    "    else:\n",
    "        final_pos=[0,0]\n",
    "    return final_pos\n",
    "            \n",
    "        "
   ]
  },
  {
   "cell_type": "code",
   "execution_count": 2,
   "id": "c3f20c79",
   "metadata": {},
   "outputs": [
    {
     "data": {
      "text/plain": [
       "[0, 0]"
      ]
     },
     "execution_count": 2,
     "metadata": {},
     "output_type": "execute_result"
    }
   ],
   "source": [
    "track_robot([])"
   ]
  },
  {
   "cell_type": "markdown",
   "id": "26e6f585",
   "metadata": {},
   "source": [
    "2. Write a function that will return the longest word in a sentence. In cases where more than one word is found, return the first one.\n",
    "\n",
    "Examples\n",
    "\n",
    "find_longest(\"A thing of beauty is a joy forever.\") ➞ \"forever\"\n",
    "\n",
    "find_longest(\"Forgetfulness is by all means powerless!\") ➞ \"forgetfulness\"\n",
    "\n",
    "find_longest(\"\\\"Strengths\\\" is the longest and most commonly used word that contains only a single vowel.\") ➞ \"strengths\"\n"
   ]
  },
  {
   "cell_type": "code",
   "execution_count": 3,
   "id": "36119222",
   "metadata": {},
   "outputs": [],
   "source": [
    "def find_longest(st):\n",
    "    li=st.split(\" \")\n",
    "    l=\"\"\n",
    "    for i in li:\n",
    "        new=\"\"\n",
    "        #print(list(i))\n",
    "        for j in list(i):\n",
    "            #print(j)\n",
    "            if not j.isalpha():\n",
    "                pass\n",
    "            else:\n",
    "                new=new+j\n",
    "                #print(new)\n",
    "        if len(l)<len(new):\n",
    "            l=new\n",
    "            \n",
    "    return l"
   ]
  },
  {
   "cell_type": "code",
   "execution_count": 4,
   "id": "22f5c9a7",
   "metadata": {},
   "outputs": [
    {
     "data": {
      "text/plain": [
       "'forever'"
      ]
     },
     "execution_count": 4,
     "metadata": {},
     "output_type": "execute_result"
    }
   ],
   "source": [
    "find_longest(\"A thing of beauty is a joy forever.\")"
   ]
  },
  {
   "cell_type": "markdown",
   "id": "ad16540e",
   "metadata": {},
   "source": [
    "3. Create a function to check if a candidate is qualified in an imaginary coding interview of an imaginary tech startup.\n",
    "\n",
    "The criteria for a candidate to be qualified in the coding interview is:\n",
    "\n",
    "   1. The candidate should have complete all the questions.\n",
    "   2. The maximum time given to complete the interview is 120 minutes.\n",
    "   3. The maximum time given for very easy questions is 5 minutes each.\n",
    "   4. The maximum time given for easy questions is 10 minutes each.\n",
    "   5. The maximum time given for medium questions is 15 minutes each.\n",
    "   6. The maximum time given for hard questions is 20 minutes each.\n",
    "\n",
    "If all the above conditions are satisfied, return \"qualified\", else return \"disqualified\".\n",
    "\n",
    "You will be given a list of time taken by a candidate to solve a particular question and the total time taken by the candidate to complete the interview.\n",
    "\n",
    "Given a list , in a true condition will always be in the format [very easy, very easy, easy, easy, medium, medium, hard, hard].\n",
    "\n",
    "The maximum time to complete the interview includes a buffer time of 20 minutes.\n",
    "\n",
    "Examples\n",
    "\n",
    "interview([5, 5, 10, 10, 15, 15, 20, 20], 120) ➞ \"qualified\"\n",
    "\n",
    "interview([2, 3, 8, 6, 5, 12, 10, 18], 64) ➞  \"qualified\"\n",
    "\n",
    "interview([5, 5, 10, 10, 25, 15, 20, 20], 120) ➞ \"disqualified\"\n",
    "#Exceeded the time limit for a medium question.\n",
    "\n",
    "interview([5, 5, 10, 10, 15, 15, 20], 120) ➞ \"disqualified\"\n",
    "#Did not complete all the questions.\n",
    "\n",
    "interview([5, 5, 10, 10, 15, 15, 20, 20], 130) ➞ \"disqualified\"\n",
    "#Solved all the questions in their respected time limits but exceeded the total time limit of the interview.\n"
   ]
  },
  {
   "cell_type": "code",
   "execution_count": 5,
   "id": "e454bd9f",
   "metadata": {},
   "outputs": [],
   "source": [
    "def interview(li,total):\n",
    "    interview=\"qualified\"\n",
    "    if len(li)!=8 or total>120:\n",
    "        interview=\"disqualified\"\n",
    "    elif li[0]>5 or li[1]>5 or li[2]>10 or li[3]>10 or li[4]>15 or li[5]>15 or li[6]>20 or li[7]>20:\n",
    "        interview=\"disqualified\"\n",
    "    return interview"
   ]
  },
  {
   "cell_type": "code",
   "execution_count": 6,
   "id": "b4464caf",
   "metadata": {},
   "outputs": [
    {
     "data": {
      "text/plain": [
       "'qualified'"
      ]
     },
     "execution_count": 6,
     "metadata": {},
     "output_type": "execute_result"
    }
   ],
   "source": [
    "interview([2, 3, 8, 6, 5, 12, 10, 18], 64)"
   ]
  },
  {
   "cell_type": "markdown",
   "id": "530ecbd6",
   "metadata": {},
   "source": [
    "4. Write a function that divides a list into chunks of size n, where n is the length of each chunk.\n",
    "\n",
    "Examples\n",
    "\n",
    "chunkify([2, 3, 4, 5], 2) ➞ [[2, 3], [4, 5]]\n",
    "\n",
    "chunkify([2, 3, 4, 5, 6], 2) ➞ [[2, 3], [4, 5], [6]]\n",
    "\n",
    "chunkify([2, 3, 4, 5, 6, 7], 3) ➞ [[2, 3, 4], [5, 6, 7]]\n",
    "\n",
    "chunkify([2, 3, 4, 5, 6, 7], 1) ➞ [[2], [3], [4], [5], [6], [7]]\n",
    "\n",
    "chunkify([2, 3, 4, 5, 6, 7], 7) ➞ [[2, 3, 4, 5, 6, 7]]\n"
   ]
  },
  {
   "cell_type": "code",
   "execution_count": 7,
   "id": "25ee811d",
   "metadata": {},
   "outputs": [],
   "source": [
    "def chunkify(li,ch):\n",
    "    li1=[]\n",
    "    chunk=[]\n",
    "    for i in range(len(li)):\n",
    "        if i<=len(li):\n",
    "            #print(i)\n",
    "            chunk.append(li[i])\n",
    "            #print(chunk)\n",
    "            if len(chunk)==ch or i==len(li)-1:\n",
    "                li1.append(chunk)\n",
    "                chunk=[]\n",
    "                \n",
    "            \n",
    "            \n",
    "    return li1"
   ]
  },
  {
   "cell_type": "code",
   "execution_count": 8,
   "id": "3dfe5d20",
   "metadata": {},
   "outputs": [
    {
     "data": {
      "text/plain": [
       "[[2, 3, 4, 5, 6, 7]]"
      ]
     },
     "execution_count": 8,
     "metadata": {},
     "output_type": "execute_result"
    }
   ],
   "source": [
    "chunkify([2, 3, 4, 5, 6,7], 7)"
   ]
  },
  {
   "cell_type": "markdown",
   "id": "abff53f6",
   "metadata": {},
   "source": [
    "5. You are given a list of strings consisting of grocery items, with prices in parentheses. Return a list of prices in float format.\n",
    "\n",
    "Examples\n",
    "\n",
    "get_prices([\"salad ($4.99)\"]) ➞ [4.99]\n",
    "\n",
    "get_prices([\n",
    "  \"artichokes ($1.99)\",\n",
    "  \"rotiserrie chicken ($5.99)\",\n",
    "  \"gum ($0.75)\"\n",
    "])\n",
    "\n",
    "➞ [1.99, 5.99, 0.75]\n",
    "\n",
    "get_prices([\n",
    "  \"ice cream ($5.99)\",\n",
    "  \"banana ($0.20)\",\n",
    "  \"sandwich ($8.50)\",\n",
    "  \"soup ($1.99)\"\n",
    "])\n",
    "\n",
    "➞ [5.99, 0.2, 8.50, 1.99]\n"
   ]
  },
  {
   "cell_type": "code",
   "execution_count": 9,
   "id": "f4e52482",
   "metadata": {},
   "outputs": [],
   "source": [
    "def get_prices(li):\n",
    "    li2=[]\n",
    "    for i in li:\n",
    "        st=''\n",
    "        li1=i.split(\"(\")\n",
    "        #print(list(li1[1]))\n",
    "        for j in list(li1[1]):\n",
    "            if j.isdigit() or j==\".\":\n",
    "                st=st+j\n",
    "        li2.append(float(st))\n",
    "    return li2\n",
    "    "
   ]
  },
  {
   "cell_type": "code",
   "execution_count": 10,
   "id": "a83b2b1c",
   "metadata": {},
   "outputs": [
    {
     "data": {
      "text/plain": [
       "[5.99, 0.2, 8.5, 1.99]"
      ]
     },
     "execution_count": 10,
     "metadata": {},
     "output_type": "execute_result"
    }
   ],
   "source": [
    "get_prices([ \"ice cream ( 5.99)\",\"𝑏𝑎𝑛𝑎𝑛𝑎( 0.20)\", \"sandwich ( 8.50)\",\"𝑠𝑜𝑢𝑝( 1.99)\" ])"
   ]
  },
  {
   "cell_type": "code",
   "execution_count": null,
   "id": "ccb6c28c",
   "metadata": {},
   "outputs": [],
   "source": []
  }
 ],
 "metadata": {
  "kernelspec": {
   "display_name": "Python 3 (ipykernel)",
   "language": "python",
   "name": "python3"
  },
  "language_info": {
   "codemirror_mode": {
    "name": "ipython",
    "version": 3
   },
   "file_extension": ".py",
   "mimetype": "text/x-python",
   "name": "python",
   "nbconvert_exporter": "python",
   "pygments_lexer": "ipython3",
   "version": "3.9.12"
  }
 },
 "nbformat": 4,
 "nbformat_minor": 5
}
