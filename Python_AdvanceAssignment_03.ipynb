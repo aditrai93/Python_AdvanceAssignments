{
 "cells": [
  {
   "cell_type": "code",
   "execution_count": 33,
   "id": "c2bbdaa7",
   "metadata": {},
   "outputs": [],
   "source": [
    "\"\"\"1. Create a function to perform basic arithmetic operations that includes addition, subtraction, multiplication and \n",
    "division on a string number (e.g. \"12 + 24\" or \"23 - 21\" or \"12 // 12\" or \"12 * 21\").\"\"\"\n",
    "\n",
    "def string_arithmetic(a):\n",
    "    try:\n",
    "        result=0\n",
    "        li=a.split(' ') \n",
    "        if li[1]=='+':\n",
    "            result=int(li[0])+int(li[2])\n",
    "        elif li[1]=='-':\n",
    "            result=int(li[0])-int(li[2])\n",
    "        elif li[1]=='*':\n",
    "            result=int(li[0])*int(li[2])   \n",
    "        elif li[1]=='//':\n",
    "            if li[2]=='0':\n",
    "                return -1\n",
    "            elif li[2]!=0:\n",
    "                result=int(li[0])/int(li[2])\n",
    "    except Exception as e:\n",
    "        print(e)\n",
    "    \n",
    "    return result\n",
    "        "
   ]
  },
  {
   "cell_type": "code",
   "execution_count": 35,
   "id": "56efd244",
   "metadata": {},
   "outputs": [
    {
     "data": {
      "text/plain": [
       "1.0"
      ]
     },
     "execution_count": 35,
     "metadata": {},
     "output_type": "execute_result"
    }
   ],
   "source": [
    "string_arithmetic('45 // 45')"
   ]
  },
  {
   "cell_type": "code",
   "execution_count": 50,
   "id": "1351183b",
   "metadata": {},
   "outputs": [],
   "source": [
    "\"\"\"2)Write a function that takes the coordinates of three points in the form of a 2d array and returns the perimeter of the \n",
    "triangle. The given points are the vertices of a triangle on a two-dimensional plane.\"\"\"\n",
    "\n",
    "import math\n",
    "def perimeter(array):\n",
    "    try:\n",
    "        a=array[0]\n",
    "        b=array[1]\n",
    "        c=array[2]\n",
    "        a1=(a[1]-b[1])**2\n",
    "        b1=(a[0]-b[0])**2\n",
    "        a2=(a[1]-c[1])**2\n",
    "        c2=(a[0]-c[0])**2\n",
    "        b3=(b[0]-c[0])**2\n",
    "        c3=(b[1]-c[1])**2\n",
    "        \n",
    "        l1= math.sqrt(a1+b1)\n",
    "        l2= math.sqrt(a2+c2)\n",
    "        l3= math.sqrt(b3+c3)\n",
    "        per=l1+l2+l3\n",
    "    except Exception as e:\n",
    "        print(e)\n",
    "    return per\n",
    "    \n",
    "    \n"
   ]
  },
  {
   "cell_type": "code",
   "execution_count": 53,
   "id": "9435783a",
   "metadata": {},
   "outputs": [
    {
     "data": {
      "text/plain": [
       "47.07918859608948"
      ]
     },
     "execution_count": 53,
     "metadata": {},
     "output_type": "execute_result"
    }
   ],
   "source": [
    "perimeter([[15,7],[5,22],[11,1]])"
   ]
  },
  {
   "cell_type": "code",
   "execution_count": 58,
   "id": "a3fe4ceb",
   "metadata": {},
   "outputs": [],
   "source": [
    "\"\"\"\"3. A city skyline can be represented as a 2-D list with 1s representing buildings. \n",
    "In the example below, the height of the tallest building is 4 (second-most right column).\n",
    "\n",
    "[[0, 0, 0, 0, 0, 0],\n",
    "[0, 0, 0, 0, 1, 0],\n",
    "[0, 0, 1, 0, 1, 0],\n",
    "[0, 1, 1, 1, 1, 0],\n",
    "[1, 1, 1, 1, 1, 1]]\n",
    "\n",
    "Create a function that takes a skyline (2-D list of 0's and 1's) and returns the height of the tallest skyscraper.\"\"\"\n",
    "\n",
    "def tallest_skyscraper(li):\n",
    "    tall=0\n",
    "    temp=0\n",
    "    for i in range(len(li[0])):\n",
    "        high=0\n",
    "        for j in li:\n",
    "            high+=j[i]\n",
    "        if high>temp:\n",
    "            tall=high\n",
    "        temp=high\n",
    "    return tall\n",
    "        \n",
    "        \n",
    "        \n",
    "        "
   ]
  },
  {
   "cell_type": "code",
   "execution_count": 62,
   "id": "a78eed17",
   "metadata": {},
   "outputs": [
    {
     "data": {
      "text/plain": [
       "2"
      ]
     },
     "execution_count": 62,
     "metadata": {},
     "output_type": "execute_result"
    }
   ],
   "source": [
    "tallest_skyscraper([[0,0,0,0],[0,0,0,0],[1,1,1,0],[1,1,1,1]])"
   ]
  },
  {
   "cell_type": "code",
   "execution_count": 66,
   "id": "3a1ed7b5",
   "metadata": {},
   "outputs": [],
   "source": [
    "\"\"\"4. A financial institution provides professional services to banks and claims charges from the customers based on the \n",
    "number of man-days provided. Internally, it has set a scheme to motivate and reward staff to meet and exceed targeted billable\n",
    "utilization and revenues by paying a bonus for each day claimed from customers in excess of a threshold target.\n",
    "\n",
    "This quarterly scheme is calculated with a threshold target of 32 days per quarter, and the incentive payment for each \n",
    "billable day in excess of such threshold target is shown as follows:\n",
    "\n",
    "Days\t                             Bonus\n",
    "0 to 32 days\t                   Zero\n",
    "33 to 40 days\t         SGD$325 per billable day\n",
    "41 to 48 days\t         SGD$550 per billable day\n",
    "Greater than 48 days      SGD$600 per billable day\n",
    "\n",
    "Please note that incentive payment is calculated progressively. As an example, if an employee reached total billable \n",
    "days of 45 in a quarter, his/her incentive payment is computed as follows:\n",
    "\n",
    "32*0 + 8*325 + 5*550 = 5350\n",
    "\n",
    "Write a function to read the billable days of an employee and return the bonus he/she has obtained in that quarter.\"\"\"\n",
    "\n",
    "def bonus(days):\n",
    "    if days<=32:\n",
    "        return 0\n",
    "    elif days>32 and days<=40:\n",
    "        return (days-32)*325\n",
    "    elif days>40 and days<=48:\n",
    "        return (8*325)+(days-40)*550\n",
    "    else:\n",
    "        return (8*325)+(8*550)+(days-48)*600\n"
   ]
  },
  {
   "cell_type": "code",
   "execution_count": 68,
   "id": "ab3b1cdc",
   "metadata": {},
   "outputs": [
    {
     "data": {
      "text/plain": [
       "8200"
      ]
     },
     "execution_count": 68,
     "metadata": {},
     "output_type": "execute_result"
    }
   ],
   "source": [
    "bonus(50)"
   ]
  },
  {
   "cell_type": "code",
   "execution_count": 83,
   "id": "74ca8ba3",
   "metadata": {},
   "outputs": [],
   "source": [
    "\"\"\"5. A number is said to be Disarium if the sum of its digits raised to their respective positions is the number itself.\n",
    "\n",
    "Create a function that determines whether a number is a Disarium or not.\"\"\"\n",
    "\n",
    "def Disarium(a):\n",
    "    b=str(a)\n",
    "    sum=0\n",
    "    for i in range(1,len(b)+1):\n",
    "        sum+=int(b[i-1])**i\n",
    "    if sum==a:\n",
    "        return True\n",
    "    else:\n",
    "        return False\n",
    "    \n"
   ]
  },
  {
   "cell_type": "code",
   "execution_count": 88,
   "id": "8e71c3fb",
   "metadata": {},
   "outputs": [
    {
     "data": {
      "text/plain": [
       "True"
      ]
     },
     "execution_count": 88,
     "metadata": {},
     "output_type": "execute_result"
    }
   ],
   "source": [
    "Disarium(8)"
   ]
  },
  {
   "cell_type": "code",
   "execution_count": 73,
   "id": "d8877eab",
   "metadata": {},
   "outputs": [],
   "source": []
  },
  {
   "cell_type": "code",
   "execution_count": 76,
   "id": "4c3e28ee",
   "metadata": {},
   "outputs": [],
   "source": []
  },
  {
   "cell_type": "code",
   "execution_count": null,
   "id": "580e9de7",
   "metadata": {},
   "outputs": [],
   "source": []
  },
  {
   "cell_type": "code",
   "execution_count": null,
   "id": "966154a3",
   "metadata": {},
   "outputs": [],
   "source": []
  }
 ],
 "metadata": {
  "kernelspec": {
   "display_name": "Python 3 (ipykernel)",
   "language": "python",
   "name": "python3"
  },
  "language_info": {
   "codemirror_mode": {
    "name": "ipython",
    "version": 3
   },
   "file_extension": ".py",
   "mimetype": "text/x-python",
   "name": "python",
   "nbconvert_exporter": "python",
   "pygments_lexer": "ipython3",
   "version": "3.9.7"
  }
 },
 "nbformat": 4,
 "nbformat_minor": 5
}
