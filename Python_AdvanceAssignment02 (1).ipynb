{
 "cells": [
  {
   "cell_type": "code",
   "execution_count": 6,
   "id": "069a4392",
   "metadata": {},
   "outputs": [],
   "source": [
    "'''1)Write a function that takes a positive integer num and calculates how many\n",
    "dots exist in a pentagonal shape around the center dot on the Nth iteration.'''\n",
    "\n",
    "def pentagon_dot_count(n):\n",
    "    count=0\n",
    "    for i in range(1,n):\n",
    "        count+=5*i\n",
    "    return count+1"
   ]
  },
  {
   "cell_type": "code",
   "execution_count": 9,
   "id": "4b5f9206",
   "metadata": {},
   "outputs": [
    {
     "data": {
      "text/plain": [
       "6"
      ]
     },
     "execution_count": 9,
     "metadata": {},
     "output_type": "execute_result"
    }
   ],
   "source": [
    "pentagon_dot_count(2)"
   ]
  },
  {
   "cell_type": "code",
   "execution_count": 17,
   "id": "5cb67666",
   "metadata": {},
   "outputs": [],
   "source": [
    "'''2)Make a function that encrypts a given input with these steps:\n",
    "Input: apple;\n",
    "Step 1: Reverse the input: elppa;\n",
    "Step 2: Replace all vowels using the following chart:\n",
    "a = 0\n",
    "e = 1\n",
    "i = 2\n",
    "o = 2\n",
    "u = 3'''\n",
    "di={'a':'0','e':'1','i':'2','o':'2','u':'3'}\n",
    "def encrypt(a):\n",
    "    c=''\n",
    "    if a!=None:\n",
    "        b=a[::-1]\n",
    "    for i in b:\n",
    "        if i in di:\n",
    "            c+=di[i]\n",
    "        else:\n",
    "            c+=i\n",
    "    return c+'aca'\n",
    "        \n",
    "        "
   ]
  },
  {
   "cell_type": "code",
   "execution_count": 19,
   "id": "5312d755",
   "metadata": {},
   "outputs": [
    {
     "data": {
      "text/plain": [
       "'0n0n0baca'"
      ]
     },
     "execution_count": 19,
     "metadata": {},
     "output_type": "execute_result"
    }
   ],
   "source": [
    "encrypt('banana')"
   ]
  },
  {
   "cell_type": "code",
   "execution_count": 43,
   "id": "4d821bbb",
   "metadata": {},
   "outputs": [],
   "source": [
    "'''3)Given the month and year as numbers, return whether that month contains\n",
    "a Friday 13th.(i.e You can check Python datetime module)'''\n",
    "\n",
    "from datetime import date\n",
    "\n",
    "def has_friday_13(month,year):\n",
    "    d=date(year,month,13)\n",
    "    w=(d.weekday())\n",
    "    if w==4:\n",
    "        return True\n",
    "    else:\n",
    "        return False\n",
    "    "
   ]
  },
  {
   "cell_type": "code",
   "execution_count": 47,
   "id": "a2b1635d",
   "metadata": {},
   "outputs": [
    {
     "data": {
      "text/plain": [
       "False"
      ]
     },
     "execution_count": 47,
     "metadata": {},
     "output_type": "execute_result"
    }
   ],
   "source": [
    "has_friday_13(1,1985)"
   ]
  },
  {
   "cell_type": "code",
   "execution_count": 5,
   "id": "7398e1b3",
   "metadata": {},
   "outputs": [
    {
     "name": "stdout",
     "output_type": "stream",
     "text": [
      "2\n"
     ]
    }
   ],
   "source": [
    "'''4)Write a regular expression that will help us count how many bad cookies are produced every day. You must use RegEx negative lookbehind.\n",
    "\n",
    "Example\n",
    "\n",
    "lst = [\"bad cookie\", \"good cookie\", \"bad cookie\", \"good cookie\", \"good cookie\"]\n",
    "pattern = \"yourregularexpressionhere\"\n",
    "\n",
    "len(re.findall(pattern, \", \".join(lst))) ➞ 2'''\n",
    "\n",
    "\n",
    "import re\n",
    "lst = [\"bad cookie\", \"good cookie\", \"bad cookie\", \"good cookie\", \"good cookie\"]\n",
    "pattern = \"(?<!^good)\\scookie\"\n",
    "li=[]\n",
    "for i in lst:\n",
    "    l=re.findall(pattern,i)\n",
    "    if len(l)!=0:\n",
    "        li.append(l)\n",
    "print(len(li))"
   ]
  },
  {
   "cell_type": "code",
   "execution_count": 13,
   "id": "e401071e",
   "metadata": {},
   "outputs": [],
   "source": [
    "'''5)Given a list of words in the singular form, return a set of those words in the\n",
    "plural form if they appear more than once in the list.'''\n",
    "\n",
    "def pluralize(li):\n",
    "    li1=[]\n",
    "    count=0\n",
    "    for i in li:\n",
    "        a=li.count(i)\n",
    "        if i+'s' not in li1 and a>1:\n",
    "            li1.append(i+'s')\n",
    "        elif a==1:\n",
    "            li1.append(i)\n",
    "\n",
    "    return set(li1)"
   ]
  },
  {
   "cell_type": "code",
   "execution_count": 17,
   "id": "ce777b07",
   "metadata": {},
   "outputs": [
    {
     "data": {
      "text/plain": [
       "{'apples', 'dog'}"
      ]
     },
     "execution_count": 17,
     "metadata": {},
     "output_type": "execute_result"
    }
   ],
   "source": [
    "pluralize(['apple','dog','apple','apple'])"
   ]
  },
  {
   "cell_type": "code",
   "execution_count": 4,
   "id": "a2ca722e",
   "metadata": {},
   "outputs": [
    {
     "name": "stdout",
     "output_type": "stream",
     "text": [
      "2\n"
     ]
    }
   ],
   "source": []
  },
  {
   "cell_type": "code",
   "execution_count": 11,
   "id": "a3c669bd",
   "metadata": {},
   "outputs": [
    {
     "data": {
      "text/plain": [
       "0"
      ]
     },
     "execution_count": 11,
     "metadata": {},
     "output_type": "execute_result"
    }
   ],
   "source": []
  },
  {
   "cell_type": "code",
   "execution_count": 3,
   "id": "5a21344d",
   "metadata": {},
   "outputs": [
    {
     "name": "stdout",
     "output_type": "stream",
     "text": [
      "2\n"
     ]
    }
   ],
   "source": []
  },
  {
   "cell_type": "code",
   "execution_count": 2,
   "id": "282e1143",
   "metadata": {},
   "outputs": [
    {
     "data": {
      "text/plain": [
       "5"
      ]
     },
     "execution_count": 2,
     "metadata": {},
     "output_type": "execute_result"
    }
   ],
   "source": []
  },
  {
   "cell_type": "code",
   "execution_count": null,
   "id": "cdadacfa",
   "metadata": {},
   "outputs": [],
   "source": []
  }
 ],
 "metadata": {
  "kernelspec": {
   "display_name": "Python 3 (ipykernel)",
   "language": "python",
   "name": "python3"
  },
  "language_info": {
   "codemirror_mode": {
    "name": "ipython",
    "version": 3
   },
   "file_extension": ".py",
   "mimetype": "text/x-python",
   "name": "python",
   "nbconvert_exporter": "python",
   "pygments_lexer": "ipython3",
   "version": "3.9.7"
  }
 },
 "nbformat": 4,
 "nbformat_minor": 5
}
