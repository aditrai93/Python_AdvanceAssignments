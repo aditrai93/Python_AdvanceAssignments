{
 "cells": [
  {
   "cell_type": "code",
   "execution_count": 22,
   "id": "93971345",
   "metadata": {},
   "outputs": [],
   "source": [
    "'''1)Write a function that takes a list of lists and returns the value of all of the\n",
    "symbols in it, where each symbol adds or takes something from the total\n",
    "score. Symbol values:\n",
    "# = 5\n",
    "O = 3\n",
    "X = 1\n",
    "! = -1\n",
    "!! = -3\n",
    "!!! = -5'''\n",
    "\n",
    "di={'#':5,'O':3,'X':1,'!':-1,'!!':-3,'!!!':-5}#dictionary with symbol values\n",
    "\n",
    "\n",
    "def Total_Score(li,pointer):#Defining function with initilizing pointer as False\n",
    "    global score\n",
    "    if pointer == False :\n",
    "        score = 0\n",
    "    for i in li:\n",
    "        if type(i)==list:\n",
    "            pointer = True\n",
    "            Total_Score(i,pointer)\n",
    "        else:\n",
    "            score+=di[i]\n",
    "    return score\n",
    "        "
   ]
  },
  {
   "cell_type": "code",
   "execution_count": 24,
   "id": "6cf7a8dc",
   "metadata": {},
   "outputs": [
    {
     "data": {
      "text/plain": [
       "-1"
      ]
     },
     "execution_count": 24,
     "metadata": {},
     "output_type": "execute_result"
    }
   ],
   "source": [
    "Total_Score(['X',['X','#'],['!!','!!!']],False)"
   ]
  },
  {
   "cell_type": "code",
   "execution_count": 27,
   "id": "01e12075",
   "metadata": {},
   "outputs": [],
   "source": [
    "\n",
    "'''2)Create a function that takes a variable number of arguments, each\n",
    "argument representing the number of items in a group, and returns the\n",
    "number of permutations (combinations) of items that you could get by taking\n",
    "one item from each group.'''\n",
    "\n",
    "def combination(a):\n",
    "    li=[]\n",
    "    comb=1\n",
    "    for i in range(a):\n",
    "        li.append(int(input(f'enter your {i+1} input ')))\n",
    "    for i in li:\n",
    "        comb*=i\n",
    "    return comb\n",
    "    \n"
   ]
  },
  {
   "cell_type": "code",
   "execution_count": 28,
   "id": "fc4b8c5c",
   "metadata": {},
   "outputs": [
    {
     "name": "stdout",
     "output_type": "stream",
     "text": [
      "enter your 1 th input3\n",
      "enter your 2 th input7\n",
      "enter your 3 th input4\n"
     ]
    },
    {
     "data": {
      "text/plain": [
       "84"
      ]
     },
     "execution_count": 28,
     "metadata": {},
     "output_type": "execute_result"
    }
   ],
   "source": [
    "combination(3)"
   ]
  },
  {
   "cell_type": "code",
   "execution_count": 29,
   "id": "f34cadd2",
   "metadata": {},
   "outputs": [],
   "source": [
    "'''3)Create a function that takes a string as an argument and returns the Morse\n",
    "code equivalent.'''\n",
    "\n",
    "char_to_dots = {\n",
    "  'A': '.-', 'B': '-...', 'C': '-.-.', 'D': '-..', 'E': '.', 'F': '..-.',\n",
    "  'G': '--.', 'H': '....', 'I': '..', 'J': '.---', 'K': '-.-', 'L': '.-..',\n",
    "  'M': '--', 'N': '-.', 'O': '---', 'P': '.--.', 'Q': '--.-', 'R': '.-.',\n",
    "  'S': '...', 'T': '-', 'U': '..-', 'V': '...-', 'W': '.--', 'X': '-..-',\n",
    "  'Y': '-.--', 'Z': '--..', ' ': ' ', '0': '-----',\n",
    "  '1': '.----', '2': '..---', '3': '...--', '4': '....-', '5': '.....',\n",
    "  '6': '-....', '7': '--...', '8': '---..', '9': '----.',\n",
    "  '&': '.-...', \"'\": '.----.', '@': '.--.-.', ')': '-.--.-', '(': '-.--.',\n",
    "  ':': '---...', ',': '--..--', '=': '-...-', '!': '-.-.--', '.': '.-.-.-',\n",
    "  '-': '-....-', '+': '.-.-.', '\"': '.-..-.', '?': '..--..', '/': '-..-.'\n",
    "}\n",
    "\n",
    "def Encode_morse(a):\n",
    "    morse=''\n",
    "    for i in a:\n",
    "        morse+=char_to_dots[i]\n",
    "    return morse"
   ]
  },
  {
   "cell_type": "code",
   "execution_count": 34,
   "id": "f3a7bf1c",
   "metadata": {},
   "outputs": [
    {
     "data": {
      "text/plain": [
       "'.-..--.---- .----..--- .-..-.'"
      ]
     },
     "execution_count": 34,
     "metadata": {},
     "output_type": "execute_result"
    }
   ],
   "source": [
    "Encode_morse('LMAO 12 \"')"
   ]
  },
  {
   "cell_type": "code",
   "execution_count": 62,
   "id": "9bf931d6",
   "metadata": {},
   "outputs": [],
   "source": [
    "'''4)Write a function that takes a number and returns True if it's a prime; False\n",
    "otherwise. The number can be 2^64-1 (2 to the power of 63, not XOR). With\n",
    "the standard technique it would be O(2^64-1), which is much too large for the\n",
    "10 second time limit.'''\n",
    "\n",
    "def prime(n):\n",
    "    pointer = True\n",
    "    if n%2==0:\n",
    "        pointer = False\n",
    "    else:\n",
    "        for i in range(3,9):\n",
    "            if i!=n and n>i:\n",
    "                if n%i==0:\n",
    "                    pointer = False\n",
    "    return pointer\n",
    "            \n",
    "            \n",
    "        \n",
    "            \n",
    "                "
   ]
  },
  {
   "cell_type": "code",
   "execution_count": 69,
   "id": "98dc9c3e",
   "metadata": {},
   "outputs": [
    {
     "data": {
      "text/plain": [
       "True"
      ]
     },
     "execution_count": 69,
     "metadata": {},
     "output_type": "execute_result"
    }
   ],
   "source": [
    "prime(7)"
   ]
  },
  {
   "cell_type": "markdown",
   "id": "27848e04",
   "metadata": {},
   "source": []
  },
  {
   "cell_type": "code",
   "execution_count": 123,
   "id": "3ed1bd23",
   "metadata": {},
   "outputs": [],
   "source": [
    "'''5)Create a function that converts a word to a bitstring and then to a boolean\n",
    "list based on the following criteria:\n",
    "1. Locate the position of the letter in the English alphabet (from 1 to 26).\n",
    "2. Odd positions will be represented as 1 and 0 otherwise.\n",
    "3. Convert the represented positions to boolean values, 1 for True and 0\n",
    "for False.\n",
    "4. Store the conversions into an array.'''\n",
    "\n",
    "def convert_to_boolean(a):\n",
    "    bit=''\n",
    "    li=[]\n",
    "    for i in a:\n",
    "        \n",
    "        if (ord(i)-96)%2!=0:\n",
    "            bit+='1'\n",
    "        else:\n",
    "            bit+='0'\n",
    "        \n",
    "    print('bit = ',bit)\n",
    "    for i in bit:\n",
    "        if i=='0':\n",
    "            li.append(False)\n",
    "        else:\n",
    "            li.append(True)\n",
    "    return li"
   ]
  },
  {
   "cell_type": "raw",
   "id": "6bc73a67",
   "metadata": {},
   "source": []
  },
  {
   "cell_type": "code",
   "execution_count": 125,
   "id": "d112b38a",
   "metadata": {},
   "outputs": [
    {
     "name": "stdout",
     "output_type": "stream",
     "text": [
      "bit =  0110\n"
     ]
    },
    {
     "data": {
      "text/plain": [
       "[False, True, True, False]"
      ]
     },
     "execution_count": 125,
     "metadata": {},
     "output_type": "execute_result"
    }
   ],
   "source": [
    "convert_to_boolean('deep')"
   ]
  },
  {
   "cell_type": "code",
   "execution_count": 77,
   "id": "27801712",
   "metadata": {},
   "outputs": [],
   "source": []
  },
  {
   "cell_type": "code",
   "execution_count": 122,
   "id": "cdf89430",
   "metadata": {},
   "outputs": [
    {
     "data": {
      "text/plain": [
       "1"
      ]
     },
     "execution_count": 122,
     "metadata": {},
     "output_type": "execute_result"
    }
   ],
   "source": []
  },
  {
   "cell_type": "code",
   "execution_count": null,
   "id": "a244480d",
   "metadata": {},
   "outputs": [],
   "source": []
  }
 ],
 "metadata": {
  "kernelspec": {
   "display_name": "Python 3 (ipykernel)",
   "language": "python",
   "name": "python3"
  },
  "language_info": {
   "codemirror_mode": {
    "name": "ipython",
    "version": 3
   },
   "file_extension": ".py",
   "mimetype": "text/x-python",
   "name": "python",
   "nbconvert_exporter": "python",
   "pygments_lexer": "ipython3",
   "version": "3.9.7"
  }
 },
 "nbformat": 4,
 "nbformat_minor": 5
}
