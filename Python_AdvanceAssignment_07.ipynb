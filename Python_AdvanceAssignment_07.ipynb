{
 "cells": [
  {
   "cell_type": "markdown",
   "id": "3a5595e3",
   "metadata": {},
   "source": [
    "1. Write a function that counts how many concentric layers a rug.\n",
    "\n",
    "Examples\n",
    "\n",
    "count_layers([\n",
    "  \"AAAA\",\n",
    "  \"ABBA\",\n",
    "  \"AAAA\"\n",
    "]) ➞ 2\n",
    "\n",
    "count_layers([\n",
    "  \"AAAAAAAAA\",\n",
    "  \"ABBBBBBBA\",\n",
    "  \"ABBAAABBA\",\n",
    "  \"ABBBBBBBA\",\n",
    "  \"AAAAAAAAA\"\n",
    "]) ➞ 3\n",
    "\n",
    "count_layers([\n",
    "  \"AAAAAAAAAAA\",\n",
    "  \"AABBBBBBBAA\",\n",
    "  \"AABCCCCCBAA\",\n",
    "  \"AABCAAACBAA\",\n",
    "  \"AABCADACBAA\",\n",
    "  \"AABCAAACBAA\",\n",
    "  \"AABCCCCCBAA\",\n",
    "  \"AABBBBBBBAA\",\n",
    "  \"AAAAAAAAAAA\"\n",
    "]) ➞ 5\n"
   ]
  },
  {
   "cell_type": "code",
   "execution_count": 1,
   "id": "6a8a369c",
   "metadata": {},
   "outputs": [],
   "source": [
    "def count_layers(li):\n",
    "    count_layer = []\n",
    "    for layers in li:\n",
    "        if layers not in count_layer:\n",
    "            count_layer.append(layers)\n",
    "    return len(count_layer)"
   ]
  },
  {
   "cell_type": "code",
   "execution_count": 4,
   "id": "15bf6249",
   "metadata": {},
   "outputs": [
    {
     "data": {
      "text/plain": [
       "5"
      ]
     },
     "execution_count": 4,
     "metadata": {},
     "output_type": "execute_result"
    }
   ],
   "source": [
    "count_layers([\n",
    "  \"AAAAAAAAAAA\",\n",
    "  \"AABBBBBBBAA\",\n",
    "  \"AABCCCCCBAA\",\n",
    "  \"AABCAAACBAA\",\n",
    "  \"AABCADACBAA\",\n",
    "  \"AABCAAACBAA\",\n",
    "  \"AABCCCCCBAA\",\n",
    "  \"AABBBBBBBAA\",\n",
    "  \"AAAAAAAAAAA\"\n",
    "])"
   ]
  },
  {
   "cell_type": "markdown",
   "id": "601c6fc0",
   "metadata": {},
   "source": [
    "2. There are many different styles of music and many albums exhibit multiple styles. Create a function that takes a list of musical styles from albums and returns how many styles are unique.\n",
    "\n",
    "Examples\n",
    "\n",
    "unique_styles([\n",
    "  \"Dub,Dancehall\",\n",
    "  \"Industrial,Heavy Metal\",\n",
    "  \"Techno,Dubstep\",\n",
    "  \"Synth-pop,Euro-Disco\",\n",
    "  \"Industrial,Techno,Minimal\"\n",
    "]) ➞ 9\n",
    "\n",
    "unique_styles([\n",
    "  \"Soul\",\n",
    "  \"House,Folk\",\n",
    "  \"Trance,Downtempo,Big Beat,House\",\n",
    "  \"Deep House\",\n",
    "  \"Soul\"\n",
    "]) ➞ 7\n"
   ]
  },
  {
   "cell_type": "code",
   "execution_count": 20,
   "id": "f8fecfde",
   "metadata": {},
   "outputs": [],
   "source": [
    "def unique_styles(li):\n",
    "    styles=[]\n",
    "    for mus_sty in li:\n",
    "        for style in mus_sty.split(\",\"):\n",
    "            if style not in styles:\n",
    "                styles.append(style)\n",
    "    return len(styles)\n",
    "            \n",
    "            "
   ]
  },
  {
   "cell_type": "code",
   "execution_count": 22,
   "id": "d5ca82cc",
   "metadata": {},
   "outputs": [
    {
     "data": {
      "text/plain": [
       "7"
      ]
     },
     "execution_count": 22,
     "metadata": {},
     "output_type": "execute_result"
    }
   ],
   "source": [
    "unique_styles([ \"Soul\", \"House,Folk\", \"Trance,Downtempo,Big Beat,House\", \"Deep House\", \"Soul\" ])"
   ]
  },
  {
   "cell_type": "markdown",
   "id": "92df4771",
   "metadata": {},
   "source": [
    "3. Create a function that finds a target number in a list of prime numbers. Implement a binary search algorithm in your function. The target number will be from 2 through 97. If the target is prime then return \"yes\" else return \"no\".\n",
    "\n",
    "Examples\n",
    "\n",
    "primes = [2, 3, 5, 7, 11, 13, 17, 19, 23, 29, 31, 37, 41, 43, 47, 53, 59, 61, 67, 71, 73, 79, 83, 89, 97]\n",
    "\n",
    "\n",
    "is_prime(primes, 3) ➞ \"yes\"\n",
    "\n",
    "is_prime(primes, 4) ➞ \"no\"\n",
    "\n",
    "is_prime(primes, 67) ➞ \"yes\"\n",
    "\n",
    "is_prime(primes, 36) ➞ \"no\"\n"
   ]
  },
  {
   "cell_type": "code",
   "execution_count": 58,
   "id": "c5ec2c06",
   "metadata": {},
   "outputs": [],
   "source": [
    "primes = [2, 3, 5, 7, 11, 13, 17, 19, 23, 29, 31, 37, 41, 43, 47, 53, 59, 61, 67, 71, 73, 79, 83, 89, 97]\n",
    "\n",
    "\n",
    "def binary_search(num,primes)->bool:\n",
    "    global counter\n",
    "    counter=False\n",
    "    if counter==False:\n",
    "        if len(primes)>0:\n",
    "            if primes[len(primes)//2]==num:\n",
    "                counter=True\n",
    "            else:\n",
    "                if num<primes[len(primes)//2]:\n",
    "                    primes=primes[:len(primes)//2]\n",
    "                else:\n",
    "                    primes=primes[(len(primes)//2)+1:]\n",
    "                binary_search(num,primes)\n",
    "    \n",
    "    \n",
    "    return counter\n",
    "\n",
    "def is_prime(num,primes):\n",
    "    i=3\n",
    "    global prime\n",
    "    if binary_search(num,primes)==True:\n",
    "        prime=\"Yes\"\n",
    "        if num%2==0:\n",
    "            pass\n",
    "        else:\n",
    "            while i<num:\n",
    "                if num%i==0:\n",
    "                    prime=\"No\"\n",
    "                    break\n",
    "                else:\n",
    "                    i=i+1\n",
    "    else:\n",
    "        prime=\"No\"\n",
    "    return prime\n",
    "        \n",
    "            \n",
    "            \n",
    "        "
   ]
  },
  {
   "cell_type": "code",
   "execution_count": 61,
   "id": "f0a4243d",
   "metadata": {},
   "outputs": [
    {
     "data": {
      "text/plain": [
       "'No'"
      ]
     },
     "execution_count": 61,
     "metadata": {},
     "output_type": "execute_result"
    }
   ],
   "source": [
    "is_prime(4,primes)"
   ]
  },
  {
   "cell_type": "markdown",
   "id": "f83e173a",
   "metadata": {},
   "source": [
    "4. Create a function that takes in n, a, b and returns the number of positive values raised to the nth power that lie in the range [a, b], inclusive.\n",
    "\n",
    "Examples\n",
    "\n",
    "power_ranger(2, 49, 65) ➞ 2\n",
    "\n",
    "2 squares (n^2) lie between 49 and 65, 49 (7^2) and 64 (8^2)\n",
    "\n",
    "power_ranger(3, 1, 27) ➞ 3\n",
    "\n",
    "3 cubes (n^3) lie between 1 and 27, 1 (1^3), 8 (2^3) and 27 (3^3)\n",
    "\n",
    "power_ranger(10, 1, 5) ➞ 1\n",
    "\n",
    "1 value raised to the 10th power lies between 1 and 5, 1 (1^10)\n",
    "\n",
    "power_ranger(5, 31, 33) ➞ 1\n",
    "\n",
    "power_ranger(4, 250, 1300) ➞ 3\n"
   ]
  },
  {
   "cell_type": "code",
   "execution_count": 68,
   "id": "52b79dcf",
   "metadata": {},
   "outputs": [],
   "source": [
    "def power_ranger(power,low,high):\n",
    "    i=1\n",
    "    global num\n",
    "    global count\n",
    "    count=0\n",
    "    num=True\n",
    "    while num==True:\n",
    "        if i**power>=low and i**power<=high:\n",
    "            count=count+1\n",
    "            i=i+1\n",
    "        elif i**power<low:\n",
    "            i=i+1\n",
    "        elif i**power>high:\n",
    "            num=False\n",
    "            break\n",
    "    return count\n",
    "            \n",
    "            \n",
    "        \n",
    "        \n",
    "    "
   ]
  },
  {
   "cell_type": "code",
   "execution_count": 73,
   "id": "345cab5b",
   "metadata": {},
   "outputs": [
    {
     "data": {
      "text/plain": [
       "3"
      ]
     },
     "execution_count": 73,
     "metadata": {},
     "output_type": "execute_result"
    }
   ],
   "source": [
    "power_ranger(4, 250, 1300)"
   ]
  },
  {
   "cell_type": "markdown",
   "id": "eabf0da5",
   "metadata": {},
   "source": [
    "5. Given a number, return the difference between the maximum and minimum numbers that can be formed when the digits are rearranged.\n",
    "\n",
    "Examples\n",
    "\n",
    "rearranged_difference(972882) ➞ 760833\n",
    "\n",
    "988722 - 227889 = 760833\n",
    "\n",
    "rearranged_difference(3320707) ➞ 7709823\n",
    "\n",
    "7733200 - 23377 = 7709823\n",
    "\n",
    "rearranged_difference(90010) ➞ 90981\n",
    "\n",
    "91000 - 19 = 90981\n"
   ]
  },
  {
   "cell_type": "code",
   "execution_count": 107,
   "id": "f07a1d44",
   "metadata": {},
   "outputs": [],
   "source": [
    "def rearranged_difference(num):\n",
    "    n=str(num)\n",
    "    li=[i for i in n]\n",
    "    li.sort()\n",
    "    smaller_num=int(\"\".join(li))\n",
    "    li.sort(reverse=True)\n",
    "    bigger_num=int(\"\".join(li))\n",
    "    return bigger_num-smaller_num\n"
   ]
  },
  {
   "cell_type": "code",
   "execution_count": 110,
   "id": "de6904c7",
   "metadata": {},
   "outputs": [
    {
     "data": {
      "text/plain": [
       "90981"
      ]
     },
     "execution_count": 110,
     "metadata": {},
     "output_type": "execute_result"
    }
   ],
   "source": [
    "rearranged_difference(90010)"
   ]
  },
  {
   "cell_type": "code",
   "execution_count": null,
   "id": "d5b117cf",
   "metadata": {},
   "outputs": [],
   "source": []
  },
  {
   "cell_type": "code",
   "execution_count": null,
   "id": "ab8bf874",
   "metadata": {},
   "outputs": [],
   "source": []
  },
  {
   "cell_type": "code",
   "execution_count": null,
   "id": "fd7b11a4",
   "metadata": {},
   "outputs": [],
   "source": []
  },
  {
   "cell_type": "code",
   "execution_count": null,
   "id": "c32e6bea",
   "metadata": {},
   "outputs": [],
   "source": []
  },
  {
   "cell_type": "code",
   "execution_count": null,
   "id": "d9e4aadf",
   "metadata": {},
   "outputs": [],
   "source": []
  }
 ],
 "metadata": {
  "kernelspec": {
   "display_name": "Python 3 (ipykernel)",
   "language": "python",
   "name": "python3"
  },
  "language_info": {
   "codemirror_mode": {
    "name": "ipython",
    "version": 3
   },
   "file_extension": ".py",
   "mimetype": "text/x-python",
   "name": "python",
   "nbconvert_exporter": "python",
   "pygments_lexer": "ipython3",
   "version": "3.9.7"
  }
 },
 "nbformat": 4,
 "nbformat_minor": 5
}
